{
  "nbformat": 4,
  "nbformat_minor": 0,
  "metadata": {
    "colab": {
      "name": "InsertionSort.ipynb",
      "provenance": [],
      "authorship_tag": "ABX9TyPz5yIN20nQ5FZ2gYHV1FQh",
      "include_colab_link": true
    },
    "kernelspec": {
      "name": "python3",
      "display_name": "Python 3"
    },
    "language_info": {
      "name": "python"
    }
  },
  "cells": [
    {
      "cell_type": "markdown",
      "metadata": {
        "id": "view-in-github",
        "colab_type": "text"
      },
      "source": [
        "<a href=\"https://colab.research.google.com/github/Fernando-Guerrero-Diaz/ADA-Informes/blob/main/InsertionSort.ipynb\" target=\"_parent\"><img src=\"https://colab.research.google.com/assets/colab-badge.svg\" alt=\"Open In Colab\"/></a>"
      ]
    },
    {
      "cell_type": "markdown",
      "source": [
        "# 1. Problema de Ordenamiento\n",
        "**Entrada:** arreglo con n elementos numéricos. $[a_1, a_2, ... a_n]$\n",
        "\n",
        "**Salida:** arreglo con los mismos elementos ordenados de menor a mayor. $[a_1', a_2', ... a_n']$ tal que $a_i'\\leq a_{i+1}'$ para todo $ 0 \\leq i < n$\n",
        "\n",
        "En el problema del ordenamiento se busca ordenar los elementos de un arreglo de forma rápida y eficiente. Una de las formas más simples e intuitivas de ordenar un arreglo es mediante el algoritmo de Insertion Sort."
      ],
      "metadata": {
        "id": "aub6SL1GUjxJ"
      }
    },
    {
      "cell_type": "markdown",
      "source": [
        "# 2. InsertionSort\n",
        "El siguiente código es una implementación de InsertionSort en Python."
      ],
      "metadata": {
        "id": "Yv817_W9WkpB"
      }
    },
    {
      "cell_type": "markdown",
      "source": [
        "## 2.1. Código"
      ],
      "metadata": {
        "id": "qC0qm_8PW0gj"
      }
    },
    {
      "cell_type": "code",
      "source": [
        "from termcolor import colored\n",
        "\n",
        "def InsertionSort(arreglo, verbose=False):\n",
        "    n = len(arreglo)\n",
        "    T = 0 #Contador de comparaciones\n",
        "    if verbose == True : print('Arreglo entrada:',arreglo)\n",
        "    for i in range (1,n):\n",
        "        if verbose == True : print('\\nPasada',i)\n",
        "        aux = arreglo[i] #Valor a insertar\n",
        "        if verbose == True : print('Valor a insertar: ',aux)\n",
        "        j = i-1 # variable que indica la posición del valor a comparar con aux\n",
        "        while (j>=0 and aux < arreglo[j]): #Se compara aux con los valores anteriores. Si aux es menor, se sigue avanzando hacia atrás en el arreglo al restarle 1 a j.\n",
        "            T=T+1 \n",
        "            arreglo[j+1] = arreglo[j] #Los elementos ya comparados se mueven hacia adelante con este remplazo\n",
        "            if verbose == True: \n",
        "                  print(str(arreglo[:j+1])[1:-1], colored('->','red'), str(arreglo[j+1:])[1:-1])\n",
        "            j=j-1\n",
        "\n",
        "        arreglo[j+1] = aux #Una vez se encuentra un valor menor a aux, se sale del loop, y se inserta en la posición siguiente al valor comparado\n",
        "        if j>=0 :T=T+1 #Ya que no compara en el caso trivial de llegar al inicio del arreglo, solo se aumenta T cuando j es 0 o positivo\n",
        "        if verbose == True: \n",
        "            print(str(arreglo[:j+1])[1:-1], '(', colored(arreglo[j+1],'blue'), ')', str(arreglo[j+2:])[1:-1])\n",
        "    if verbose == True: print('\\nArreglo salida:',arreglo, '\\nNumero de comparaciones:', T)\n",
        "    return arreglo, T\n",
        "    \n",
        "a = [7, 5, 16, 2, 4, 3]\n",
        "a, comparaciones = InsertionSort(a)\n",
        "print('\\nArreglo:')\n",
        "print(a)\n",
        "print('Numero de comparaciones:', comparaciones)\n"
      ],
      "metadata": {
        "id": "V0VVpEfGW8iE",
        "colab": {
          "base_uri": "https://localhost:8080/"
        },
        "outputId": "dae0d088-e6cb-49ea-e845-1fca0a0e5517"
      },
      "execution_count": 7,
      "outputs": [
        {
          "output_type": "stream",
          "name": "stdout",
          "text": [
            "\n",
            "Arreglo:\n",
            "[2, 3, 4, 5, 7, 16]\n",
            "Numero de comparaciones: 14\n"
          ]
        }
      ]
    },
    {
      "cell_type": "markdown",
      "source": [
        "## 2.2. Descripción del Algoritmo\n",
        "El algoritmo recibe como entrada un arreglo $a$ con $n$ elementos a ordenar. Usando una variable auxiliar, los elementos se ordenan en el mismo arreglo.\n",
        "\n",
        "1. Asumimos que el primer elemento está ordenado. Cramos una variable $T$ para contar el número de comparaciones realizadas.\n",
        "2. Partiendo de 1, en cada iteración $i$ guardamos el valor de $a[i]$ en una variable auxiliar ($aux$). Luego, creamos el segundo iterador $j=i-1$ y comparamos $aux$ con $a[j]$, que sería el elemento anterior en el arreglo. Si $aux < a[j]$ , entonces copiamos el valor de $a[j]$ en $a[j+1]$, efectivamente moviéndolo hacia adelante en el arreglo. \n",
        "3.Luego a $j$ se le resta 1 y se vuelve a comparar $aux$ con $a[j]$ hasta que $j<0$  ó  $aux > a[j]$, osea, hasta que se llegue al inicio del arreglo o hasta que se encuentre un valor menor a $aux$. finalmente se inserta $aux$ de vuelta al arreglo en la posición $a[j+1]$ y se pasa a la siguiente iteración.\n",
        "4.Se sigue iterando hasta que se hayan insertado todos los elementos del arreglo, y se retorna el arreglo ordenado junto con el número de comparaciones realizadas\n",
        "\n",
        "Nota: cada vez que empieza una iteración, los elementos anteriores al valor a insertar se encuentran ordenados.\n",
        "\n",
        "Si la variable `verbose` es `True` entonces se imprime en pantalla lo que pasa en el arreglo después de cada comparación."
      ],
      "metadata": {
        "id": "3rE9O783a3q_"
      }
    },
    {
      "cell_type": "markdown",
      "source": [
        "##2.3. Ejemplo\n",
        "\n",
        "Para modo de ejemplo, tomemos como entrada al siguiente arreglo:\n",
        "\n",
        "$a=[8,1,5,3]$\n",
        "\n",
        "Asumimos de que 8 está ordenado. En la primera pasada, tomamos a 1 y lo guardamos en variable auxiliar. Luego lo comparamos con 8. Como 1 es menor que 8, copiamos a éste en la posición donde estaba el 1.\n",
        "\n",
        "$a=[8,8,5,3]$\n",
        "\n",
        "Luego retrocedemos en el arreglo, y como llegamos al inicio, insertamos al 1 en el arreglo donde estaba 8.\n",
        "\n",
        "$a=[1,8,5,3]$\n",
        "\n",
        "En la segunda pasada, tomamos a 5, lo guardamos, y lo comparamos con 8. Es menor, por lo tanto 8 toma su lugar.\n",
        "\n",
        "$a=[1,8,8,3]$\n",
        "\n",
        "Retrocedemos y comparamos a 5 con 1. Es mayor, por lo tanto es insertado después del 1.\n",
        "\n",
        "$a=[1,5,8,3]$\n",
        "\n",
        "En la tercera pasada, tomamos al 3 y lo comparamos con 8. Es menor, por lo que 8 se pone en su lugar.\n",
        "\n",
        "$a=[1,5,8,8]$\n",
        "\n",
        "Comparamos a 3 con 5. Es menor, por lo tanto 5 es copiado en la posición siguiente.\n",
        "\n",
        "$a=[1,5,5,8]$\n",
        "\n",
        "Finalmente, comparamos a 3 con 1. Es mayor, y se inserta después del 1.\n",
        "\n",
        "$a=[1,3,5,8]$\n",
        "\n",
        "Habiendo insertado todos los elementos, el arreglo se encuentra ordenado."
      ],
      "metadata": {
        "id": "1FjY-Af-lw3a"
      }
    },
    {
      "cell_type": "markdown",
      "source": [
        "## 2.4. Ejecución del algoritmo paso a paso (`verbose=True`)\n",
        "\n",
        "Usando la opción `verbose=True`, se imprime en pantalla el estado del arreglo durante la iteración del algoritmo."
      ],
      "metadata": {
        "id": "O8KRfTc8o10D"
      }
    },
    {
      "cell_type": "code",
      "execution_count": 8,
      "metadata": {
        "id": "8Mn0oL2hUSgi",
        "colab": {
          "base_uri": "https://localhost:8080/"
        },
        "outputId": "bd2e1270-5c8a-4fce-bb6f-c155354a4373"
      },
      "outputs": [
        {
          "output_type": "stream",
          "name": "stdout",
          "text": [
            "Arreglo entrada: [61, 82, 69, 30, 29, 36]\n",
            "\n",
            "Pasada 1\n",
            "Valor a insertar:  82\n",
            "61 ( \u001b[34m82\u001b[0m ) 69, 30, 29, 36\n",
            "\n",
            "Pasada 2\n",
            "Valor a insertar:  69\n",
            "61, 82 \u001b[31m->\u001b[0m 82, 30, 29, 36\n",
            "61 ( \u001b[34m69\u001b[0m ) 82, 30, 29, 36\n",
            "\n",
            "Pasada 3\n",
            "Valor a insertar:  30\n",
            "61, 69, 82 \u001b[31m->\u001b[0m 82, 29, 36\n",
            "61, 69 \u001b[31m->\u001b[0m 69, 82, 29, 36\n",
            "61 \u001b[31m->\u001b[0m 61, 69, 82, 29, 36\n",
            " ( \u001b[34m30\u001b[0m ) 61, 69, 82, 29, 36\n",
            "\n",
            "Pasada 4\n",
            "Valor a insertar:  29\n",
            "30, 61, 69, 82 \u001b[31m->\u001b[0m 82, 36\n",
            "30, 61, 69 \u001b[31m->\u001b[0m 69, 82, 36\n",
            "30, 61 \u001b[31m->\u001b[0m 61, 69, 82, 36\n",
            "30 \u001b[31m->\u001b[0m 30, 61, 69, 82, 36\n",
            " ( \u001b[34m29\u001b[0m ) 30, 61, 69, 82, 36\n",
            "\n",
            "Pasada 5\n",
            "Valor a insertar:  36\n",
            "29, 30, 61, 69, 82 \u001b[31m->\u001b[0m 82\n",
            "29, 30, 61, 69 \u001b[31m->\u001b[0m 69, 82\n",
            "29, 30, 61 \u001b[31m->\u001b[0m 61, 69, 82\n",
            "29, 30 ( \u001b[34m36\u001b[0m ) 61, 69, 82\n",
            "\n",
            "Arreglo salida: [29, 30, 36, 61, 69, 82] \n",
            "Numero de comparaciones: 14\n"
          ]
        }
      ],
      "source": [
        "import random\n",
        "a = random.sample(range(1, 100), 6)\n",
        "a,c= InsertionSort(a,verbose=True)"
      ]
    },
    {
      "cell_type": "markdown",
      "source": [
        "En cada pasada, se indica con una flecha roja cuando un elemento es copiado en la posición siguiente después de la comparación, y se usan paréntesis para indicar cuando el valor en azul es insertado de vuelta en el arreglo."
      ],
      "metadata": {
        "id": "reXsukJ7Kfkg"
      }
    },
    {
      "cell_type": "markdown",
      "source": [
        "#3.Tiempo de Ejecución\n",
        "\n",
        "###**Teorema (Tiempo de ejecución)**\n",
        "\n",
        "*El algoritmo **InsertionSort** tiene un **tiempo de ejecución de** $O(n^2)$ en el peor caso.*\n",
        "\n",
        "##Prueba del Teorema\n",
        "\n",
        "En InsertionSort, el peor caso ocurre cuando la entrada es una lista ordenada de mayor a menor. En este caso, en cada iteración el valor a ingresar sería insertado al principio del arreglo despues de compararlo con todos los elementos anteriores. \n"
      ],
      "metadata": {
        "id": "hrN2fcQcK5o6"
      }
    },
    {
      "cell_type": "markdown",
      "source": [
        "###Ejemplo"
      ],
      "metadata": {
        "id": "2IhhHv1WMbjH"
      }
    },
    {
      "cell_type": "code",
      "source": [
        "a = [21,13,8,5,3,1]\n",
        "print('Entrada ordenada de mayor a menor:', a)\n",
        "a,c = InsertionSort(a,True)\n"
      ],
      "metadata": {
        "colab": {
          "base_uri": "https://localhost:8080/"
        },
        "id": "WWYCG_fbMd-E",
        "outputId": "ce543713-b3f9-46ab-b255-1b55c2f6d69f"
      },
      "execution_count": 11,
      "outputs": [
        {
          "output_type": "stream",
          "name": "stdout",
          "text": [
            "Entrada ordenada de mayor a menor: [34, 21, 13, 8, 5, 3, 1]\n",
            "Arreglo entrada: [34, 21, 13, 8, 5, 3, 1]\n",
            "\n",
            "Pasada 1\n",
            "Valor a insertar:  21\n",
            "34 \u001b[31m->\u001b[0m 34, 13, 8, 5, 3, 1\n",
            " ( \u001b[34m21\u001b[0m ) 34, 13, 8, 5, 3, 1\n",
            "\n",
            "Pasada 2\n",
            "Valor a insertar:  13\n",
            "21, 34 \u001b[31m->\u001b[0m 34, 8, 5, 3, 1\n",
            "21 \u001b[31m->\u001b[0m 21, 34, 8, 5, 3, 1\n",
            " ( \u001b[34m13\u001b[0m ) 21, 34, 8, 5, 3, 1\n",
            "\n",
            "Pasada 3\n",
            "Valor a insertar:  8\n",
            "13, 21, 34 \u001b[31m->\u001b[0m 34, 5, 3, 1\n",
            "13, 21 \u001b[31m->\u001b[0m 21, 34, 5, 3, 1\n",
            "13 \u001b[31m->\u001b[0m 13, 21, 34, 5, 3, 1\n",
            " ( \u001b[34m8\u001b[0m ) 13, 21, 34, 5, 3, 1\n",
            "\n",
            "Pasada 4\n",
            "Valor a insertar:  5\n",
            "8, 13, 21, 34 \u001b[31m->\u001b[0m 34, 3, 1\n",
            "8, 13, 21 \u001b[31m->\u001b[0m 21, 34, 3, 1\n",
            "8, 13 \u001b[31m->\u001b[0m 13, 21, 34, 3, 1\n",
            "8 \u001b[31m->\u001b[0m 8, 13, 21, 34, 3, 1\n",
            " ( \u001b[34m5\u001b[0m ) 8, 13, 21, 34, 3, 1\n",
            "\n",
            "Pasada 5\n",
            "Valor a insertar:  3\n",
            "5, 8, 13, 21, 34 \u001b[31m->\u001b[0m 34, 1\n",
            "5, 8, 13, 21 \u001b[31m->\u001b[0m 21, 34, 1\n",
            "5, 8, 13 \u001b[31m->\u001b[0m 13, 21, 34, 1\n",
            "5, 8 \u001b[31m->\u001b[0m 8, 13, 21, 34, 1\n",
            "5 \u001b[31m->\u001b[0m 5, 8, 13, 21, 34, 1\n",
            " ( \u001b[34m3\u001b[0m ) 5, 8, 13, 21, 34, 1\n",
            "\n",
            "Pasada 6\n",
            "Valor a insertar:  1\n",
            "3, 5, 8, 13, 21, 34 \u001b[31m->\u001b[0m 34\n",
            "3, 5, 8, 13, 21 \u001b[31m->\u001b[0m 21, 34\n",
            "3, 5, 8, 13 \u001b[31m->\u001b[0m 13, 21, 34\n",
            "3, 5, 8 \u001b[31m->\u001b[0m 8, 13, 21, 34\n",
            "3, 5 \u001b[31m->\u001b[0m 5, 8, 13, 21, 34\n",
            "3 \u001b[31m->\u001b[0m 3, 5, 8, 13, 21, 34\n",
            " ( \u001b[34m1\u001b[0m ) 3, 5, 8, 13, 21, 34\n",
            "\n",
            "Arreglo salida: [1, 3, 5, 8, 13, 21, 34] \n",
            "Numero de comparaciones: 21\n"
          ]
        }
      ]
    },
    {
      "cell_type": "markdown",
      "source": [
        "En la primera pasada, solo se hace una comparación. En la siguiente 2, en la siguiente 3, y así hasta la pasada número (n-1). En general, el tiempo total del peor caso sería la sumatoria de $1 + 2 + 3+... (n-2)+ (n-1)$, la cual es igual a $\\frac{n(n-1)}{2}$. En tiempo $O$, el peor caso tendría pues un tiempo de ejecución $O(n^2)$."
      ],
      "metadata": {
        "id": "Ls3q7pPQOkU2"
      }
    },
    {
      "cell_type": "markdown",
      "source": [
        "#4.Correctitud\n",
        "\n",
        "### **Teorema (Correctitud)**\n",
        "\n",
        "*El algoritmo **InsertionSort** retorna un arreglo: $[a_1',a_2',...,a_n']$, tomando los elementos del arreglo de entrada y ordenándolos de menor a mayor, de modo que se cumpla $a_i'\\leq a_{i+1}'$ para todo $ 0 \\leq i < n$.*\n",
        "\n",
        "\n",
        "## Prueba del Teorema\n",
        "\n",
        "Como notamos anteriormente, en cada iteración, los valores anteriores al que vamos a insertar se encuentran ordenados.\n",
        "\n",
        "Probaremos pues la siguiente **propiedad invariante del bucle** con `InsertionSort`:\n",
        "\n",
        ">Al comienzo de cada iteración $i$, los primeros $i$ elementos del arreglo se encuentran ordenados de menor a mayor.\n",
        "\n",
        "**Inicialización:**\n",
        "Al comienzo de la iteración $1$, solo se considera el primer elemento, en la posición $0$. Trivialmente, como solo hay un elemento, está por ende ordenado.\n",
        "\n",
        "**Mantención:**\n",
        "Aplicando inducción, consideremos que se cumple la propiedad al empezar cada iteración $i$. El arreglo esta ordenado desde $a[0]$ hasta $a[i-1]$.\n",
        "\n",
        "Cuando los elementos anteriores se mueven hacia adelante en el caso de que sean mayores al valor a insertar, el subarreglo sigue estando ordenado, simplemente con un valor duplicado a medida que avanza hacia atrás.\n",
        "\n",
        "Al encontrar un elemento menor al valor a insertar y poniéndolo en la posición que sigue, sabemos de que todos los elementos anteriores a la posición son menores y ordenados, y que todos los siguientes son mayores y ordenados tambien.\n",
        "\n",
        "Por lo tanto, el arreglo hasta la posición $i$ está ordenado.\n",
        "\n",
        "**Correctitud:**\n",
        "Como la propiedad invariante del bucle se mantiene verdadera desde su inicio hasta el final, podemos asegurar que al finalizar la última iteración del algoritmo, se termina con un arreglo ordenado de menor a mayor.\n",
        "\n",
        "\n"
      ],
      "metadata": {
        "id": "bsFPTC1hQKKm"
      }
    },
    {
      "cell_type": "markdown",
      "source": [
        "#5. Experimentos\n",
        "\n",
        "##5.1. Comparaciónes en el mejor caso, peor caso, y caso de entrada casi ordenada\n",
        "\n",
        "En esta sección se muestra por gráficos una comparación entre:\n",
        "\n",
        "* Cantidad de comparaciones en casos aleatorios  \n",
        "* Cantidad de comparaciones en el mejor caso\n",
        "* Cantidad de comparaciones en el peor caso \n",
        "* Cantidad de comparaciones en caso de entrada casi ordenada\n",
        "\n",
        "Con entradas de 5 a 20 números. Usaremos un arreglo aleatorio para el primer caso, y luego reutilizaremos el arreglo ya ordenado para calcular los otros casos.\n",
        "\n"
      ],
      "metadata": {
        "id": "Wp81ai8lbIKH"
      }
    },
    {
      "cell_type": "code",
      "source": [
        "import matplotlib.pyplot as plt\n",
        "\n",
        "x=[n for n in range(5,20)] \n",
        "y=[];\n",
        "y1=[]; \n",
        "y2=[];\n",
        "y3=[];\n",
        "\n",
        "for n in range(5,20):\n",
        "\n",
        "  a = random.sample(range(1, 100), n) #Arreglo de entrada aleatoria\n",
        "  a,c=InsertionSort(a)\n",
        "  y.append(c)\n",
        "\n",
        "  a,c=InsertionSort(a) #Mejor caso usando arreglo ordenado\n",
        "  y1.append(c)\n",
        "\n",
        "  a=a[::-1] #inversion del arreglo ordenado para peor caso\n",
        "  a,c=InsertionSort(a)\n",
        "  y2.append(c)\n",
        "  m =random.choice(range(1,n))\n",
        "  a[0], a [m] = a[m], a[0] #Creacion de arreglo casi ordenado, cambiando un elemento aleatorio con el primer elemento del arreglo\n",
        "  a,c=InsertionSort(a)\n",
        "  y3.append(c)\n",
        "  \n",
        "plt.plot(x,y)\n",
        "plt.plot(x,y1)\n",
        "plt.plot(x,y2)\n",
        "plt.plot(x,y3)\n",
        "plt.legend([\"Casos aleatorios\",\"Mejor caso\",\"Peor caso\", \"Casi Ordenado\"])\n",
        "\n",
        "plt.xlabel('n')\n",
        "plt.ylabel('Numero de comparaciones')\n",
        "plt.show()"
      ],
      "metadata": {
        "colab": {
          "base_uri": "https://localhost:8080/",
          "height": 279
        },
        "id": "uyjXlIqtcVt4",
        "outputId": "f50eefd6-d1d4-44bf-dd34-6052e436f74d"
      },
      "execution_count": 32,
      "outputs": [
        {
          "output_type": "display_data",
          "data": {
            "text/plain": [
              "<Figure size 432x288 with 1 Axes>"
            ],
            "image/png": "[encoded data removed]"
          },
          "metadata": {
            "needs_background": "light"
          }
        }
      ]
    },
    {
      "cell_type": "markdown",
      "source": [
        "###Análisis de resultados\n",
        "\n",
        "Como se ve en el gráfico, el tiempo de ejecución es casi como un promedio entre el mejor y peor caso. Naturalmente, el promedio entre una curva polinomial y una recta sigue siendo una curva polinomial, lo cual se nota en el gráfico.\n",
        "\n",
        "Cuando la entrada es un arreglo casi ordenado, el tiempo de ejecución se acota notablemente, siendo en varios casos prácticamente idéntico al mejor caso."
      ],
      "metadata": {
        "id": "1KbcvdYEc2nU"
      }
    },
    {
      "cell_type": "markdown",
      "source": [
        "##5.2 InsertionSort vs BubbleSort (Tiempos de Ejecución)\n",
        "\n",
        "Aquí realizaremos una comparación entre el tiempo de ejecución de BubbleSort y el de InsertionSort. "
      ],
      "metadata": {
        "id": "vPRfL5rAqY-W"
      }
    },
    {
      "cell_type": "code",
      "source": [
        "import matplotlib.pyplot as plt\n",
        "import datetime\n",
        "from timeit import repeat\n",
        "\n",
        "def BubbleSort(a): #Implementacion simple de BubbleSort para efectos de comparacion \n",
        "    n = len(a)\n",
        "    T = 0 \n",
        "    for i in range(1,n+1):\n",
        "        already_sorted = True\n",
        "        for j in range(n - i):\n",
        "            T +=1\n",
        "            if a[j] > a[j + 1]:  \n",
        "                a[j], a[j + 1] = a[j + 1], a[j]\n",
        "                already_sorted = False\n",
        "        if already_sorted:\n",
        "            break\n",
        "    return a, T\n",
        "\n",
        "\n",
        "x=[] \n",
        "y1=[]\n",
        "y2=[]\n",
        "\n",
        "for n in range(5,100):\n",
        "\n",
        "  a = random.sample(range(1, 1000), n) #Entrada para BubbleSort\n",
        "  b = a.copy() #Copia profunda del mismo arreglo como entrada para InsertionSort\n",
        "  t1 = repeat(setup=\"from __main__ import BubbleSort\", stmt=f\"BubbleSort({a})\", repeat=1, number=10)\n",
        "  t2 = repeat(setup=\"from __main__ import InsertionSort\", stmt=f\"InsertionSort({b})\", repeat=1, number=10)\n",
        "  x.append(n)\n",
        "  y1.append(t1)\n",
        "  y2.append(t2)\n",
        "\n",
        "plt.plot(x,y1)\n",
        "plt.plot(x,y2)\n",
        "plt.legend([\"BubbleSort\", \"InsertionSort\"])\n",
        "\n",
        "\n",
        "plt.xlabel('n')\n",
        "plt.ylabel('time in ms')\n",
        "plt.show()"
      ],
      "metadata": {
        "colab": {
          "base_uri": "https://localhost:8080/",
          "height": 279
        },
        "id": "tDftMbIEqxOY",
        "outputId": "f14ac099-2469-45fe-da0d-aa82f9be6867"
      },
      "execution_count": 48,
      "outputs": [
        {
          "output_type": "display_data",
          "data": {
            "text/plain": [
              "<Figure size 432x288 with 1 Axes>"
            ],
            "image/png": "[encoded data removed]"
          },
          "metadata": {
            "needs_background": "light"
          }
        }
      ]
    },
    {
      "cell_type": "markdown",
      "source": [
        "###Análisis de resultados\n",
        "Como se ve en el gráfico, el algoritmo InsertionSort tiene un tiempo de ejecución claramente menor al de BubbleSort. Si bien ambos algoritmos tienen un tiempo $O(n^2)$, InsertionSort lleva la ventaja en términos de eficiencia."
      ],
      "metadata": {
        "id": "yiVKC_ZYwVn8"
      }
    }
  ]
}