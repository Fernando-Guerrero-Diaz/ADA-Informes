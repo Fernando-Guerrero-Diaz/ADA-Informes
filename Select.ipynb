{
  "nbformat": 4,
  "nbformat_minor": 0,
  "metadata": {
    "colab": {
      "provenance": [],
      "authorship_tag": "ABX9TyPIfHoFElm94bwkFL7jG8S1",
      "include_colab_link": true
    },
    "kernelspec": {
      "name": "python3",
      "display_name": "Python 3"
    },
    "language_info": {
      "name": "python"
    }
  },
  "cells": [
    {
      "cell_type": "markdown",
      "metadata": {
        "id": "view-in-github",
        "colab_type": "text"
      },
      "source": [
        "<a href=\"https://colab.research.google.com/github/Fernando-Guerrero-Diaz/ADA-Informes/blob/main/Select.ipynb\" target=\"_parent\"><img src=\"https://colab.research.google.com/assets/colab-badge.svg\" alt=\"Open In Colab\"/></a>"
      ]
    },
    {
      "cell_type": "markdown",
      "source": [
        "#1.Problema de Selección\n",
        "\n",
        "**Entrada:** Arreglo $A$ de elementos númericos, junto a un índice $i$.\n",
        "\n",
        "**Salida:** elemento $x$ del arreglo $A$, de tal modo que este sea mayor exactamente a $i-1$ elementos del arreglo.\n",
        "\n",
        "Usando reducción de problemas, podemos modificar la función **Partition** para encontrar rápidamente el estádistico de orden que estamos buscando, usando un algoritmo llamado **Select**."
      ],
      "metadata": {
        "id": "s-i_1jhdawej"
      }
    },
    {
      "cell_type": "markdown",
      "source": [
        "#2. PivotSelection\n",
        "El algoritmo **Select** utiliza a un algoritmo llamado **PivotSelection** para encontrar una mediana de medianas con la cual aplicar partition. A continuación se encuentra la implementacion de ambos, ya que **Select** es llamado recursivamente por **PivotSelection**\n",
        "\n",
        "##2.1 Código"
      ],
      "metadata": {
        "id": "fs9qyWuIc99S"
      }
    },
    {
      "cell_type": "code",
      "execution_count": 8,
      "metadata": {
        "id": "ZofNljJ_ar2P",
        "colab": {
          "base_uri": "https://localhost:8080/"
        },
        "outputId": "4e9d1e08-1ddb-4f36-96df-8d5451d98f9a"
      },
      "outputs": [
        {
          "output_type": "stream",
          "name": "stdout",
          "text": [
            "Arreglo de entrada: [16, 18, 20, 19, 8, 14, 24, 23, 13, 21, 17, 11, 22, 7, 4]\n",
            "Pivote Seleccionado: 11\n",
            "Arreglo luego de seleccion: [8, 16, 18, 19, 20, 13, 14, 21, 23, 24, 4, 7, 11, 17, 22]\n",
            "Comparaciones: 23\n"
          ]
        }
      ],
      "source": [
        "import random\n",
        "\n",
        "def InsertionSort(arreglo,start,end): \n",
        "    global comparaciones\n",
        "    for i in range (start+1,end):\n",
        "        aux = arreglo[i] \n",
        "        j = i-1 \n",
        "        while (j>=start and aux < arreglo[j]): \n",
        "            comparaciones+=1\n",
        "            arreglo[j+1] = arreglo[j] \n",
        "            j=j-1\n",
        "        arreglo[j+1] = aux \n",
        "    return arreglo\n",
        "\n",
        "def PivotSelection(array,start,end,verbose=False):\n",
        "    n = end-start\n",
        "    medians=[]\n",
        "    for i in range(0, int(n/5)):\n",
        "        InsertionSort(array, start + i*5, start+(i+1)*5)  \n",
        "        medians.append(array[start + i*5 + 2])\n",
        "    k = n%5\n",
        "    if (k>0):\n",
        "      InsertionSort(array,end-k,end)\n",
        "      medians.append(array[end - int(k/2)-1])\n",
        "    if verbose: print(\"Llamando recursivamente a Select con el arreglo de medianas\")\n",
        "    pivot = Select(medians, int(len(medians)/2), verbose)\n",
        "\n",
        "    return pivot\n",
        "\n",
        "def Partition(array, start, end,pivot):\n",
        "  if start>=end: return start\n",
        "  global comparaciones\n",
        "\n",
        "  x = True\n",
        "  i,j = start, start\n",
        "  while j < end-1:\n",
        "    comparaciones +=1\n",
        "    if (x and array[j]==pivot ):\n",
        "      x = False\n",
        "      array[j] = array[end-1]\n",
        "      array[end-1]=pivot\n",
        "    if array[j] >= pivot:\n",
        "      j=j+1\n",
        "    else:\n",
        "      aux = array[j]\n",
        "      array[j]=array[i]\n",
        "      array[i]= aux\n",
        "      i=i+1\n",
        "      j=j+1\n",
        "  array[end-1]=array[i]\n",
        "  array[i]=pivot\n",
        "  return i\n",
        "\n",
        "def Select(array,i,verbose=False):\n",
        "    if verbose: print(\"Buscando estadístico de orden \",i, \"en arreglo \", array)\n",
        "    start = 0\n",
        "    end = len(array)\n",
        "    if len(array)<=1:\n",
        "      return array[0]\n",
        "    if i>end:\n",
        "      if verbose: print(\"Orden de estadístico excede numero de elementos, buscando máximo en lugar de este\")\n",
        "      i=end\n",
        "    if i<1:\n",
        "      if verbose: print(\"Orden de estadístico muy bajo, buscando mínimo en lugar de este\")\n",
        "      i=1\n",
        "    done= False\n",
        "    while not done:\n",
        "\n",
        "      pivot = PivotSelection(array,start,end,verbose)\n",
        "      q=Partition(array,start,end,pivot)\n",
        "      if verbose: print(\"pivote seleccionado:\", pivot,\"- posición del pivote:\",q)\n",
        "      if q==i-1: \n",
        "        if verbose: print(\"Encontrado estadístico de orden \",i,\": \", array[q])\n",
        "        return array[q]\n",
        "      if q>i-1:\n",
        "        end = q\n",
        "        if verbose: print(q,\"es mayor que\", i, \"- particionando subarreglo izquierdo:\" , array[start:end])\n",
        "      else:\n",
        "        start = q+1\n",
        "        if verbose: print(q,\"es menor que\", i, \"- particionando subarreglo derecho:\",array[start:end])\n",
        "\n",
        "comparaciones = 0\n",
        "a = random.sample(range(0, 25), 15)\n",
        "print(\"Arreglo de entrada:\", a)\n",
        "\n",
        "pivot=PivotSelection(a,0,len(a))\n",
        "\n",
        "print(\"Pivote Seleccionado:\", pivot)\n",
        "print(\"Arreglo luego de seleccion:\", a)\n",
        "print(\"Comparaciones:\", comparaciones)"
      ]
    },
    {
      "cell_type": "markdown",
      "source": [
        "##2.2 Descripción del algoritmo\n",
        "\n",
        "El algoritmo recibe como entrada al arreglo `array` junto con índices `start` y `end` para delimitar el rango donde vamos a buscar el pivote.\n",
        "\n",
        "1. Se calcula el largo del rango entre `start` y `end`, guardando el valor en `n`. También se crea un arreglo vacío `medians` en el cual insertaremos las medianas encontradas.\n",
        "\n",
        "2. Se entra en un loop que itera `n/5` veces, aplicando **InsertionSort** con quintetos de elementos y guardando la mediana que se encuentra en el arreglo `medians`.\n",
        "Si queda un resto de elementos, se aplica un último **InsertionSort** para obtener una mediana final.\n",
        "\n",
        "3. Se llama a **Select** para encontrar la mediana de las medianas en el arreglo `medians`, y su valor se retorna como pivote."
      ],
      "metadata": {
        "id": "y3_qH0yddqL_"
      }
    },
    {
      "cell_type": "markdown",
      "source": [
        "##2.3 Ejemplo\n",
        "\n",
        "A modo de ejemplo, digamos que queremos usar **PivotSelection** para seleccionar un buen pivote con el cual particionar al arreglo $A=[13, 5, 2, 3, 10, 14, 7, 9, 12, 4, 8, 11, 6]$\n",
        "\n",
        "Recorremos el arreglo y realizamos un **InsertionSort** con los primeros 5 elementos. El arreglo queda de este modo:\n",
        "\n",
        "$A=[2, 3, 5, 10, 13, 14, 7, 9, 12, 4, 8, 11, 6]$\n",
        "\n",
        "Tomaremos al elemento que quedó al medio de este quinteto, que es $5$ en este caso, y lo guardaremos en el arreglo $medians$:\n",
        "\n",
        "$medians=[5]$\n",
        "\n",
        "Seguimos avanzando, aplicando **InsertionSort** con quintetos de elementos y guardando la mediana de cada uno.\n",
        "\n",
        "$A=[2, 3, 5, 10, 13, 4, 7, 9, 12, 14, 8, 11, 6]$\n",
        "\n",
        "$medians=[5,9]$\n",
        "\n",
        "Ahora, nos quedan menos de 5 elementos, por lo que realizamos un último **InsertionSort** para obtener la última mediana.\n",
        "\n",
        "$A=[2, 3, 5, 10, 13, 4, 7, 9, 12, 14, 6, 8, 11]$\n",
        "\n",
        "$medians=[5, 9,8]$\n",
        "\n",
        "Finalmente, llamaremos a **Select** para que encuentre la mediana de las medianas. Éste retorna $8$, el cual será nuestro pivote."
      ],
      "metadata": {
        "id": "ujwhIg8iCM3z"
      }
    },
    {
      "cell_type": "markdown",
      "source": [
        "#3. Select\n",
        "\n",
        "Ahora que sabemos como funciona **PivotSelection**, podemos explicar **Select**. El codigo solo incluye la ejeccución del algoritmo ya que **Select** fue definido en el bloque de código anterior.\n",
        "\n",
        "##3.1 Código"
      ],
      "metadata": {
        "id": "2BkoIEVyGhSV"
      }
    },
    {
      "cell_type": "code",
      "source": [
        "comparaciones = 0\n",
        "a = random.sample(range(0, 30), 15)\n",
        "\n",
        "print(\"Arreglo de entrada:\", a)\n",
        "print(\"Buscando estadístico de orden 5\")\n",
        "i=Select(a,5)\n",
        "print(\"Estadístico de orden 5:\", i)\n",
        "print(\"Arreglo luego de seleccion:\", a)\n"
      ],
      "metadata": {
        "colab": {
          "base_uri": "https://localhost:8080/"
        },
        "id": "bLTe7S1VNVOV",
        "outputId": "1af587e7-2c64-4c0f-ec02-c612b3d9e7ae"
      },
      "execution_count": 9,
      "outputs": [
        {
          "output_type": "stream",
          "name": "stdout",
          "text": [
            "Arreglo de entrada: [5, 17, 24, 7, 4, 25, 28, 23, 9, 1, 26, 8, 29, 27, 18]\n",
            "Buscando estadístico de orden 5\n",
            "Estadístico de orden 5: 8\n",
            "Arreglo luego de seleccion: [4, 5, 1, 7, 8, 9, 17, 25, 29, 23, 18, 26, 27, 28, 24]\n"
          ]
        }
      ]
    },
    {
      "cell_type": "markdown",
      "source": [
        "##3.2 Descripción del algoritmo\n",
        "\n",
        "El algoritmo recibe como entrada al arreglo `array` junto a un índice `i` y a la variable `verbose` para imprimir por pantalla si se desea.\n",
        "\n",
        "1. Se inicializan las variables `start` igual a `0` y `end` igual a la longitud de `array`. Si el arreglo solo tiene ún elemento, éste se retorna de immediato.\n",
        "\n",
        "2. Si el índice `i` es menor a `1` o mayor a `end`, se modifica para encontrar el mínimo y el máximo del arreglo respectivamente.\n",
        "\n",
        "3. Se entra a un while loop, en el cual se selecciona un pivote llamando a **PivotSelection**. Este pivote es usado para particionar al arreglo usando **Partition.**\n",
        "\n",
        "4. Se chequea la posición donde quedó el pivote luego de la partición. Si este es igual a `i`, entonces encontramos el estadístico de orden i, por lo que retornaremos a `array[i]`. En caso de que sea mayor, se actualiza el `end` para que sea igual a la posición del pivote, y se vuelve a iterar, esta vez con el subarreglo izquierdo al pivote. Si es menor, se actualiza el `start` y se itera con el subarreglo derecho."
      ],
      "metadata": {
        "id": "Jcf9wDHWQkq-"
      }
    },
    {
      "cell_type": "markdown",
      "source": [
        "##3.3 Ejemplo\n",
        "\n",
        "A modo de ejemplo, digamos que queremos usar **Select** para encontrar el estadístico de orden $5$ del arreglo $A=[7,4,10,5,2,1,9,14,8,13]$\n",
        "\n",
        "Aplicamos **PivotSelection** considerando a todo el arreglo, y quedamos con pivote $9$. Luego se aplica **Partition** con este pivote, quedando el arreglo particionado de la siguiente forma:\n",
        "\n",
        "$A=[(2, 4, 5, 7, 1, 8, |9|, 14, 13, 10)]$\n",
        "\n",
        "El pivote $9$ quedo en la posición $7$, que es mayor a la posición $5$ que estamos buscando. Volvemos a aplicar **PivotSelection**, y obtenemos un pivote $4$. Se aplica **Partition** al subarreglo izquierdo al pivote anterior.\n",
        "\n",
        "$A =[(1, 2, |4|, 5, 7, 8), 9, 14, 13, 10]$\n",
        "\n",
        "El pivote quedó en la posición $3$, menor al $5$, por lo que volvemos a iterar con el subarreglo a la derecha. Se selecciona el pivote $7$ y se particiona.\n",
        "\n",
        "$A =[1, 2, 4, (5, |7|, 8), 9, 14, 13, 10]$\n",
        "\n",
        "$7$ quedó en la posición 5, por lo tanto este es nuestro estadístico de orden 5.\n",
        "\n"
      ],
      "metadata": {
        "id": "10SMISqtiAPQ"
      }
    },
    {
      "cell_type": "markdown",
      "source": [
        "##3.4 Ejecución paso a paso (`verbose=True`)\n",
        "\n",
        "A continuación se expone como funciona **Select** paso a paso usando la variable `verbose`."
      ],
      "metadata": {
        "id": "Dvhg589zkJPe"
      }
    },
    {
      "cell_type": "code",
      "source": [
        "comparaciones = 0\n",
        "a = random.sample(range(0, 15), 10)\n",
        "\n",
        "i=Select(a,5,True)"
      ],
      "metadata": {
        "colab": {
          "base_uri": "https://localhost:8080/"
        },
        "id": "bw2FgEGXlDg-",
        "outputId": "ab83c9b9-a042-44f1-cf30-58438bb43c58"
      },
      "execution_count": 10,
      "outputs": [
        {
          "output_type": "stream",
          "name": "stdout",
          "text": [
            "Buscando estadístico de orden  5 en arreglo  [8, 0, 4, 14, 1, 5, 13, 9, 7, 2]\n",
            "Llamando recursivamente a Select con el arreglo de medianas\n",
            "Buscando estadístico de orden  1 en arreglo  [4, 7]\n",
            "Llamando recursivamente a Select con el arreglo de medianas\n",
            "Buscando estadístico de orden  0 en arreglo  [4]\n",
            "pivote seleccionado: 4 - posición del pivote: 0\n",
            "Encontrado estadístico de orden  1 :  4\n",
            "pivote seleccionado: 4 - posición del pivote: 3\n",
            "3 es menor que 5 - particionando subarreglo derecho: [14, 13, 5, 7, 9, 8]\n",
            "Llamando recursivamente a Select con el arreglo de medianas\n",
            "Buscando estadístico de orden  1 en arreglo  [9, 8]\n",
            "Llamando recursivamente a Select con el arreglo de medianas\n",
            "Buscando estadístico de orden  0 en arreglo  [8]\n",
            "pivote seleccionado: 8 - posición del pivote: 0\n",
            "Encontrado estadístico de orden  1 :  8\n",
            "pivote seleccionado: 8 - posición del pivote: 6\n",
            "6 es mayor que 5 - particionando subarreglo izquierdo: [5, 7]\n",
            "Llamando recursivamente a Select con el arreglo de medianas\n",
            "Buscando estadístico de orden  0 en arreglo  [5]\n",
            "pivote seleccionado: 5 - posición del pivote: 4\n",
            "Encontrado estadístico de orden  5 :  5\n"
          ]
        }
      ]
    },
    {
      "cell_type": "markdown",
      "source": [
        "#4. Correctitud\n",
        "##4.1 Correctitud de Select\n",
        "### **Teorema (Correctitud)**\n",
        "*El algoritmo **Select**  recibe un arreglo de entrada $A=[a_1,a_2,...a_n]$ y un índice $i =< n$, y retorna un elemento $a_i \\in A$ de modo que existan exactamente $i-1$ elementos menores a $a_i$ en $A$.*\n",
        "\n",
        "##Prueba del Teorema\n",
        "\n",
        "Utilizando inducción matemática, para probar esta aseveración denominada $P(n)$, debemos probar que se cumple para los siguientes casos:\n",
        "\n",
        "1. $P(1)$. El caso base, que se puede interpretar como un arreglo de sólo un elemento en general, o un subarreglo acotado hasta que solo pueda contener un sólo elemento. En la primera interpretación, es obvio que el algoritmo es correcto, ya que $i$ tiene que ser menor o igual a $1$, asi que este único elemento será mayor a $i-1 = 0$ elementos, lo cual es trivialmente cierto. En la segunda interpretación, es un poco más complejo, pero sabemos que cuando este subarreglo es acotado $j$ por la izquierda luego del **Partition**, sabemos por seguro que hay $j$ elementos menores al elemento único del subarreglo en el arreglo original, por lo cual se podría consider un nuevo $i' = i-j$. Como en el peor caso, el algoritmo sigue iterando y acotando, en el momento que queda de ún solo elemento, el nuevo $i'$ que hay que considerar es de valor $1$, lo mismo que la primera interpretación. Por lo tanto, $P(1)$ es correcto.\n",
        "\n",
        "2. Si $P(m)$ es cierto para $m < n$, probar $P(n)$. Supongamos que luego de seleccionar un pivote y particionar el arreglo, éste queda en una posición $j$. Sabemos entonces que el subarreglo a la izquierda tiene $j$ elementos menores al pivote y el de la derecha tiene $n-j$ elementos mayores al pivote. A continuación hay tres casos:\n",
        "\n",
        "      2.1. Si $i-1 < j$ , entonces el algoritmo llama a **Select** con el subarreglo de la izquierda, el cual es de tamaño $j-1 < n$. Como $P(m)$ es correcto para $m < n$, este caso es correcto.\n",
        "\n",
        "      2.2 Si $i-1 > j$ , entonces el algoritmo llama a **Select** con el subarreglo de la derecha, el cual es de tamaño $n-j < n$. Nuevamente este caso es menor por lo tanto es correcto.\n",
        "\n",
        "      2.3 Si $i-1 = j$, este pivote se retorna como el estadístico que buscamos, ya que por definición de **Partition** tienen que haber $i-1$ elementos menores. Por lo tanto, es correcto.\n",
        "\n",
        "Como ambos casos son correctos, $P(n)$ es correcto"
      ],
      "metadata": {
        "id": "MRW2vAz5MRle"
      }
    },
    {
      "cell_type": "markdown",
      "source": [
        "#5. Tiempo de Ejecución\n",
        "\n",
        "###**Teorema(Tiempo de ejecución)** \n",
        "\n",
        "*El algoritmo **Select** tiene un tiempo de ejecución de $O(nlogn)$ para la mayoría de los casos.*\n",
        "\n",
        "Primero, analizemos el tiempo de ejecución de **PivotSelection**. Este recorre el arreglo y realiza **InsertionSort** con subarreglos de tamaño 5. Esto es pequeño para un **InsertionSort**, por lo cual podemos considerarlo un costo constante. Una vez tiene sus medianas, la función llama a **Select** con las medianas como entrada. Por lo tanto, la función temporal de **PivotSelection** es la siguiente:\n",
        "\n",
        "$PS(n) = n/5*O(1) + S(n/5)$\n",
        "\n",
        "Lo cual se puede reescribir como:\n",
        "\n",
        "$PS(n) = O(n) + S(n/5)$\n",
        "\n",
        "Ahora, revisemos a **Select**. Como sabemos que **PivotSelection** elige una mediana de medianas, podemos asegurar que en el peor caso, el pivote separará el arreglo en subarreglos de tamaño $n*3/10$ y $n*7/10$. Pero para propósito de demostración, mostraremos lo que pasa si el algoritmo tiene que llamarse recursivamente con un subarreglo  de tamaño $n*8/10$, opción naturalmente más costosa, peor que el peor caso.\n",
        "\n",
        "Además, sabemos que **Partition** tiene un tiempo $O(n)$. A partir de esto, podemos definir la función temporal de **Select** como:\n",
        "\n",
        "$S(n) = O(n) + S(n/5) + O(n) + S(4n/5)$ \n",
        "\n",
        "Combinando $O(n)$ queda reescrito de la siguiente forma:\n",
        "\n",
        "$S(n) =S(n/5) + S(4n/5) + O(n)$ \n",
        "\n",
        "Realizando sustitución matemática, queremos probar que existe un $d$ de modo que se cumpla lo siguiente: \n",
        "\n",
        "$S(n) =< dnlogn$\n",
        "\n",
        "Primero, remplazamos $O(n)$ por una constante y remplazamos $dnlogn$ en las llamadas de función.\n",
        "\n",
        "$S(n) =dnlog(n/5)/5 +dnlog(4n/5)*4/5 + cn$ \n",
        "\n",
        "Luego, realizamos operaciones mátematicas para simplificar la inecuación.\n",
        "\n",
        "$S(n) =dn(logn-log5)/5 +dn(logn +log4-log5)*4/5 + cn =< dnlogn$ \n",
        "\n",
        "$dn(logn-log5)/5 +dn(logn +log4-log4)*4/5 + cn =< dnlogn$ \n",
        "\n",
        "$dnlogn +dn(4log4-4log10 - log5)/5 + cn =< dnlogn$ \n",
        "\n",
        "Eliminando $dnlogn$ en ambos lados y cambiando factores de lugar, quedamos con esto:\n",
        "\n",
        "$cn =< dn(log5 +4log10 -4log4)/5$\n",
        "\n",
        "Finalmente, dividiendo por $n$, quedamos con la inecuación final:\n",
        "\n",
        "$c =< d(log5 +4log10 -4log4)/5$\n",
        "\n",
        "Como $c$ es una constante y $d$ es un número cualquiera, se prueba que existe un $d$ de modo que se cumpla $S(n) =< dnlogn$. Y como lo probamos con un caso similar pero peor al peor caso, podemos asegurar que funciona como cota superior en el peor caso real y en el caso general.\n",
        "\n",
        "Por lo tanto, **Select** tiene una cota superior de $nlogn$.\n"
      ],
      "metadata": {
        "id": "PryzMLIkYrP0"
      }
    },
    {
      "cell_type": "markdown",
      "source": [
        "#6. Experimentos\n",
        "\n",
        "##6.1 Comparaciones: experimental vs Peor y Mejor Caso teórico.\n",
        "El mejor caso lo podemos asumir como el caso donde el arreglo está ordenado (cada **insertionSort** realiza 5 comparaciones, dando $n$ comparaciones en total para el **PivotSelection**). Este tendría $2n$ comparaciones, mas un extra por llamar a **Select** nuevamente con las medianas.\n",
        "\n",
        "En el peor caso, cada **insertionSort** realiza $20$ comparaciones y el algoritmo itera hasta que llega a un subarreglo de tamaño $1$. Esto daría $4nlogn$ comparaciones."
      ],
      "metadata": {
        "id": "SUb7SpFjr2Iz"
      }
    },
    {
      "cell_type": "code",
      "source": [
        "import matplotlib.pyplot as plt\n",
        "import math\n",
        "import random\n",
        "\n",
        "start,stop = 5,40\n",
        "x=[n for n in range(start,stop)] \n",
        "t1=[(2*n) for n in range(start,stop)]; \n",
        "t2=[((4*n)*math.log2(n)) for n in range(start,stop)];\n",
        "y0=[];\n",
        "\n",
        "\n",
        "for n in range(start,stop):\n",
        "\n",
        "  a = random.sample(range(1, 300), n) #Arreglo de entrada aleatoria\n",
        "  i = random.randint(1,n)\n",
        "\n",
        "  comparaciones = 0\n",
        "  Select(a,i)\n",
        "  y0.append(comparaciones)\n",
        "\n",
        "\n",
        "\n",
        "\n",
        "plt.plot(x,t1)\n",
        "plt.plot(x,t2)  \n",
        "plt.plot(x,y0)\n",
        "\n",
        "\n",
        "plt.legend(['Mejor caso teórico','Peor caso teórico', 'Select'])\n",
        "\n",
        "plt.xlabel('n')\n",
        "plt.ylabel('Numero de comparaciones')\n",
        "plt.show()"
      ],
      "metadata": {
        "colab": {
          "base_uri": "https://localhost:8080/",
          "height": 279
        },
        "id": "yjY7wLfZvQ6w",
        "outputId": "9aad1180-969f-40e8-9267-72510b05bcd2"
      },
      "execution_count": 11,
      "outputs": [
        {
          "output_type": "display_data",
          "data": {
            "text/plain": [
              "<Figure size 432x288 with 1 Axes>"
            ],
            "image/png": "[encoded data removed]"
          },
          "metadata": {
            "needs_background": "light"
          }
        }
      ]
    },
    {
      "cell_type": "markdown",
      "source": [
        "Sin embargo, podemos apreciar que en casos generales, **Select** se aproxima mucho más al mejor caso, lo cual es casi lineal. Esto se puede explicar por el hecho de que las primeras pasadas de **PivotSelection** y **Partition** ordenan el arreglo lo suficiente para evitar que se continue con algo similar al peor caso."
      ],
      "metadata": {
        "id": "ju328PUZw90W"
      }
    },
    {
      "cell_type": "markdown",
      "source": [
        "##6.2 Select vs R-Select\n",
        "\n",
        "**R-Select** es la versión de **Select** que no se preocupa por escoger una mediana de medianas como pivote, y simplemente elige un pivote aleatorio. A continuación realizaremos un experimento para revisar si el costo temporal tener un mejor pivote compara con escoger pivote al azar."
      ],
      "metadata": {
        "id": "7TwCpoFDyilG"
      }
    },
    {
      "cell_type": "code",
      "source": [
        "import matplotlib.pyplot as plt\n",
        "import datetime\n",
        "from timeit import repeat\n",
        "\n",
        "def RSelect(array,i,verbose=False):\n",
        "    if verbose: print(\"Buscando estadístico de orden \",i, \"en arreglo \", array)\n",
        "    start = 0\n",
        "    end = len(array)\n",
        "    if len(array)<=1:\n",
        "      return array[0]\n",
        "    if i>end:\n",
        "      if verbose: print(\"Orden de estadístico excede numero de elementos, buscando máximo en lugar de este\")\n",
        "      i=end\n",
        "    if i<1:\n",
        "      if verbose: print(\"Orden de estadístico muy bajo, buscando mínimo en lugar de este\")\n",
        "      i=1\n",
        "    done= False\n",
        "    while not done:\n",
        "\n",
        "      pivot = random.randint(start,end)\n",
        "      q=Partition(array,start,end,pivot)\n",
        "      if verbose: print(\"pivote seleccionado:\", pivot,\"- posición del pivote:\",q)\n",
        "      if q==i-1: \n",
        "        if verbose: print(\"Encontrado estadístico de orden \",i,\": \", array[q])\n",
        "        return array[q]\n",
        "      if q>i-1:\n",
        "        end = q\n",
        "        if verbose: print(q,\"es mayor que\", i, \"- particionando subarreglo izquierdo:\" , array[start:end])\n",
        "      else:\n",
        "        start = q+1\n",
        "        if verbose: print(q,\"es menor que\", i, \"- particionando subarreglo derecho:\",array[start:end])\n",
        "\n",
        "\n",
        "x=[] \n",
        "y0=[]\n",
        "y1=[]\n",
        "\n",
        "\n",
        "for n in range(10,100):\n",
        "  i = random.randint(1,n)\n",
        "  a = random.sample(range(1, 300), n) \n",
        "  b = a.copy()\n",
        "  t0 = repeat(setup=\"from __main__ import Select\", stmt=f\"Select({a},{i})\", repeat=1, number=10)\n",
        "  t1 = repeat(setup=\"from __main__ import RSelect\", stmt=f\"RSelect({b},{i})\", repeat=1, number=10)\n",
        "\n",
        "  x.append(n)\n",
        "  y0.append(t0)\n",
        "  y1.append(t1)\n",
        "\n",
        "\n",
        "plt.plot(x,y0)\n",
        "plt.plot(x,y1)\n",
        "\n",
        "plt.legend([\"Select\",\"R-Select\", ])\n",
        "\n",
        "\n",
        "plt.xlabel('n')\n",
        "plt.ylabel('time in ms')\n",
        "plt.show()"
      ],
      "metadata": {
        "colab": {
          "base_uri": "https://localhost:8080/",
          "height": 279
        },
        "id": "JFmICbaS0nWb",
        "outputId": "e5885c02-227b-41c5-a4e2-bbf5cd22fb6d"
      },
      "execution_count": 12,
      "outputs": [
        {
          "output_type": "display_data",
          "data": {
            "text/plain": [
              "<Figure size 432x288 with 1 Axes>"
            ],
            "image/png": "[encoded data removed]"
          },
          "metadata": {
            "needs_background": "light"
          }
        }
      ]
    },
    {
      "cell_type": "markdown",
      "source": [
        "Como es de esperar, **R-Select** tiene un tiempo de ejecución bastante disparatado. Hay muchos puntos en el grafo donde se demora menos que **Select** (quizas por eligir el pivote correcto a la primera), pero visto en general, su tiempo de ejecución es mayor al de **Select**, por lo que este resulta mas eficiente a largo plazo."
      ],
      "metadata": {
        "id": "k5kN9mOh1zPT"
      }
    }
  ]
}