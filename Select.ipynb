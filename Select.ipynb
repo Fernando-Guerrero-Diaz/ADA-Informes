{
  "nbformat": 4,
  "nbformat_minor": 0,
  "metadata": {
    "colab": {
      "provenance": [],
      "collapsed_sections": [],
      "authorship_tag": "ABX9TyNMQDMt6TTkqzSHX+YWOySD",
      "include_colab_link": true
    },
    "kernelspec": {
      "name": "python3",
      "display_name": "Python 3"
    },
    "language_info": {
      "name": "python"
    }
  },
  "cells": [
    {
      "cell_type": "markdown",
      "metadata": {
        "id": "view-in-github",
        "colab_type": "text"
      },
      "source": [
        "<a href=\"https://colab.research.google.com/github/Fernando-Guerrero-Diaz/ADA-Informes/blob/main/Select.ipynb\" target=\"_parent\"><img src=\"https://colab.research.google.com/assets/colab-badge.svg\" alt=\"Open In Colab\"/></a>"
      ]
    },
    {
      "cell_type": "markdown",
      "source": [
        "#1.Problema de Selección\n",
        "\n",
        "**Entrada:** Arreglo $A$ de elementos númericos, junto a un índice $i$.\n",
        "\n",
        "**Salida:** elemento $x$ del arreglo $A$, de tal modo que este sea mayor exactamente a $i-1$ elementos del arreglo.\n",
        "\n",
        "Usando reducción de problemas, podemos modificar la función **Partition** para encontrar rápidamente el estádistico de orden que estamos buscando, usando un algoritmo llamado **Select**."
      ],
      "metadata": {
        "id": "s-i_1jhdawej"
      }
    },
    {
      "cell_type": "markdown",
      "source": [
        "#2. PivotSelection\n",
        "El algoritmo **Select** utiliza a un algoritmo llamado **PivotSelection** para encontrar una mediana de medianas con la cual aplicar partition. A continuación se encuentra la implementacion de ambos, ya que **Select** es llamado recursivamente por **PivotSelection**\n",
        "\n",
        "##2.1 Código"
      ],
      "metadata": {
        "id": "fs9qyWuIc99S"
      }
    },
    {
      "cell_type": "code",
      "execution_count": 106,
      "metadata": {
        "id": "ZofNljJ_ar2P",
        "colab": {
          "base_uri": "https://localhost:8080/"
        },
        "outputId": "b9a47354-42ae-43c4-b01d-7375d57ef2d1"
      },
      "outputs": [
        {
          "output_type": "stream",
          "name": "stdout",
          "text": [
            "Arreglo de entrada: [4, 13, 2, 23, 12, 6, 16, 11, 5, 3, 1, 7, 14, 22, 24]\n",
            "Pivote Seleccionado: 12\n",
            "Arreglo luego de seleccion: [2, 4, 12, 13, 23, 3, 5, 6, 11, 16, 1, 7, 14, 22, 24]\n",
            "Comparaciones: 15\n"
          ]
        }
      ],
      "source": [
        "import random\n",
        "\n",
        "def InsertionSort(arreglo,start,end): \n",
        "    global comparaciones\n",
        "    for i in range (start+1,end):\n",
        "        aux = arreglo[i] \n",
        "        j = i-1 \n",
        "        while (j>=start and aux < arreglo[j]): \n",
        "            comparaciones+=1\n",
        "            arreglo[j+1] = arreglo[j] \n",
        "            j=j-1\n",
        "        arreglo[j+1] = aux \n",
        "    return arreglo\n",
        "\n",
        "def PivotSelection(array,start,end,verbose=False):\n",
        "    n = end-start\n",
        "    medians=[]\n",
        "    for i in range(0, int(n/5)):\n",
        "        InsertionSort(array, start + i*5, start+(i+1)*5)  \n",
        "        medians.append(array[start + i*5 + 2])\n",
        "    k = n%5\n",
        "    if (k>0):\n",
        "      InsertionSort(array,end-k,end)\n",
        "      medians.append(array[end - int(k/2)-1])\n",
        "    if verbose: print(\"Llamando recursivamente a Select con el arreglo de medianas\")\n",
        "    pivot = Select(medians, int(len(medians)/2), verbose)\n",
        "\n",
        "    return pivot\n",
        "\n",
        "def Partition(array, start, end,pivot):\n",
        "  if start>=end: return start\n",
        "  global comparaciones\n",
        "\n",
        "  x = True\n",
        "  i,j = start, start\n",
        "  while j < end-1:\n",
        "    comparaciones +=1\n",
        "    if (x and array[j]==pivot ):\n",
        "      x = False\n",
        "      array[j] = array[end-1]\n",
        "      array[end-1]=pivot\n",
        "    if array[j] >= pivot:\n",
        "      j=j+1\n",
        "    else:\n",
        "      aux = array[j]\n",
        "      array[j]=array[i]\n",
        "      array[i]= aux\n",
        "      i=i+1\n",
        "      j=j+1\n",
        "  array[end-1]=array[i]\n",
        "  array[i]=pivot\n",
        "  return i\n",
        "\n",
        "def Select(array,i,verbose=False):\n",
        "    if verbose: print(\"Buscando estadístico de orden \",i, \"en arreglo \", array)\n",
        "    start = 0\n",
        "    end = len(array)\n",
        "    if len(array)<=1:\n",
        "      return array[0]\n",
        "    if i>end:\n",
        "      if verbose: print(\"Orden de estadístico excede numero de elementos, buscando máximo en lugar de este\")\n",
        "      i=end\n",
        "    if i<1:\n",
        "      if verbose: print(\"Orden de estadístico muy bajo, buscando mínimo en lugar de este\")\n",
        "      i=1\n",
        "    done= False\n",
        "    while not done:\n",
        "\n",
        "      pivot = PivotSelection(array,start,end,verbose)\n",
        "      q=Partition(array,start,end,pivot)\n",
        "      if verbose: print(\"pivote seleccionado:\", pivot,\"- posición del pivote:\",q)\n",
        "      if q==i-1: \n",
        "        if verbose: print(\"Encontrado estadístico de orden \",i,\": \", array[q])\n",
        "        return array[i]\n",
        "      if q>i-1:\n",
        "        end = q\n",
        "        if verbose: print(q,\"es mayor que\", i, \"- particionando subarreglo izquierdo:\" , array[start:end])\n",
        "      else:\n",
        "        start = q+1\n",
        "        if verbose: print(q,\"es menor que\", i, \"- particionando subarreglo derecho:\",array[start:end])\n",
        "\n",
        "comparaciones = 0\n",
        "a = random.sample(range(0, 25), 15)\n",
        "print(\"Arreglo de entrada:\", a)\n",
        "\n",
        "pivot=PivotSelection(a,0,len(a))\n",
        "\n",
        "print(\"Pivote Seleccionado:\", pivot)\n",
        "print(\"Arreglo luego de seleccion:\", a)\n",
        "print(\"Comparaciones:\", comparaciones)"
      ]
    },
    {
      "cell_type": "markdown",
      "source": [
        "##2.2 Descripción del algoritmo\n",
        "\n",
        "El algoritmo recibe como entrada al arreglo `array` junto con índices `start` y `end` para delimitar el rango donde vamos a buscar el pivote.\n",
        "\n",
        "1. Se calcula el largo del rango entre `start` y `end`, guardando el valor en `n`. También se crea un arreglo vacío `medians` en el cual insertaremos las medianas encontradas.\n",
        "\n",
        "2. Se entra en un loop que itera `n/5` veces, aplicando **InsertionSort** con quintetos de elementos y guardando la mediana que se encuentra en el arreglo `medians`.\n",
        "Si queda un resto de elementos, se aplica un último **InsertionSort** para obtener una mediana final.\n",
        "\n",
        "3. Se llama a **Select** para encontrar la mediana de las medianas en el arreglo `medians`, y su valor se retorna como pivote."
      ],
      "metadata": {
        "id": "y3_qH0yddqL_"
      }
    },
    {
      "cell_type": "markdown",
      "source": [
        "##2.3 Ejemplo\n",
        "\n",
        "A modo de ejemplo, digamos que queremos usar **PivotSelection** para seleccionar un buen pivote con el cual particionar al arreglo $A=[13, 5, 2, 3, 10, 14, 7, 9, 12, 4, 8, 11, 6]$\n",
        "\n",
        "Recorremos el arreglo y realizamos un **InsertionSort** con los primeros 5 elementos. El arreglo queda de este modo:\n",
        "\n",
        "$A=[2, 3, 5, 10, 13, 14, 7, 9, 12, 4, 8, 11, 6]$\n",
        "\n",
        "Tomaremos al elemento que quedó al medio de este quinteto, que es $5$ en este caso, y lo guardaremos en el arreglo $medians$:\n",
        "\n",
        "$medians=[5]$\n",
        "\n",
        "Seguimos avanzando, aplicando **InsertionSort** con quintetos de elementos y guardando la mediana de cada uno.\n",
        "\n",
        "$A=[2, 3, 5, 10, 13, 4, 7, 9, 12, 14, 8, 11, 6]$\n",
        "\n",
        "$medians=[5,9]$\n",
        "\n",
        "Ahora, nos quedan menos de 5 elementos, por lo que realizamos un último **InsertionSort** para obtener la última mediana.\n",
        "\n",
        "$A=[2, 3, 5, 10, 13, 4, 7, 9, 12, 14, 6, 8, 11]$\n",
        "\n",
        "$medians=[5, 9,8]$\n",
        "\n",
        "Finalmente, llamaremos a **Select** para que encuentre la mediana de las medianas. Éste retorna $8$, el cual será nuestro pivote."
      ],
      "metadata": {
        "id": "ujwhIg8iCM3z"
      }
    },
    {
      "cell_type": "markdown",
      "source": [
        "#3. Select\n",
        "\n",
        "Ahora que sabemos como funciona **PivotSelection**, podemos explicar **Select**. El codigo solo incluye la ejeccución del algoritmo ya que **Select** fue definido en el bloque de código anterior.\n",
        "\n",
        "##3.1 Código"
      ],
      "metadata": {
        "id": "2BkoIEVyGhSV"
      }
    },
    {
      "cell_type": "code",
      "source": [
        "comparaciones = 0\n",
        "a = random.sample(range(0, 30), 15)\n",
        "\n",
        "print(\"Arreglo de entrada:\", a)\n",
        "print(\"Buscando estadístico de orden 5\")\n",
        "i=Select(a,5)\n",
        "print(\"Estadístico de orden 5:\", i)\n",
        "print(\"Arreglo luego de seleccion:\", a)\n"
      ],
      "metadata": {
        "colab": {
          "base_uri": "https://localhost:8080/"
        },
        "id": "bLTe7S1VNVOV",
        "outputId": "8954babf-2853-4c19-fa3e-dec99f5b7eb8"
      },
      "execution_count": 107,
      "outputs": [
        {
          "output_type": "stream",
          "name": "stdout",
          "text": [
            "Arreglo de entrada: [26, 25, 13, 10, 27, 16, 5, 12, 17, 11, 3, 21, 29, 1, 28]\n",
            "Buscando estadístico de orden 5\n",
            "Estadístico de orden 5: 17\n",
            "Arreglo luego de seleccion: [5, 10, 1, 3, 11, 17, 12, 16, 13, 21, 27, 25, 29, 28, 26]\n"
          ]
        }
      ]
    },
    {
      "cell_type": "markdown",
      "source": [
        "##3.2 Descripción del algoritmo\n",
        "\n",
        "El algoritmo recibe como entrada al arreglo `array` junto a un índice `i` y a la variable `verbose` para imprimir por pantalla si se desea.\n",
        "\n",
        "1. Se inicializan las variables `start` igual a `0` y `end` igual a la longitud de `array`. Si el arreglo solo tiene ún elemento, éste se retorna de immediato.\n",
        "\n",
        "2. Si el índice `i` es menor a `1` o mayor a `end`, se modifica para encontrar el mínimo y el máximo del arreglo respectivamente.\n",
        "\n",
        "3. Se entra a un while loop, en el cual se selecciona un pivote llamando a **PivotSelection**. Este pivote es usado para particionar al arreglo usando **Partition.**\n",
        "\n",
        "4. Se chequea la posición donde quedó el pivote luego de la partición. Si este es igual a `i`, entonces encontramos el estadístico de orden i, por lo que retornaremos a `array[i]`. En caso de que sea mayor, se actualiza el `end` para que sea igual a la posición del pivote, y se vuelve a iterar, esta vez con el subarreglo izquierdo al pivote. Si es menor, se actualiza el `start` y se itera con el subarreglo derecho."
      ],
      "metadata": {
        "id": "Jcf9wDHWQkq-"
      }
    },
    {
      "cell_type": "markdown",
      "source": [
        "##3.3 Ejemplo\n",
        "\n",
        "A modo de ejemplo, digamos que queremos usar **Select** para encontrar el estadístico de orden $5$ del arreglo $A=[7,4,10,5,2,1,9,14,8,13]$\n",
        "\n",
        "Aplicamos **PivotSelection** considerando a todo el arreglo, y quedamos con pivote $9$. Luego se aplica **Partition** con este pivote, quedando el arreglo particionado de la siguiente forma:\n",
        "\n",
        "$A=[(2, 4, 5, 7, 1, 8, |9|, 14, 13, 10)]$\n",
        "\n",
        "El pivote $9$ quedo en la posición $7$, que es mayor a la posición $5$ que estamos buscando. Volvemos a aplicar **PivotSelection**, y obtenemos un pivote $4$. Se aplica **Partition** al subarreglo izquierdo al pivote anterior.\n",
        "\n",
        "$A =[(1, 2, |4|, 5, 7, 8), 9, 14, 13, 10]$\n",
        "\n",
        "El pivote quedó en la posición $3$, menor al $5$, por lo que volvemos a iterar con el subarreglo a la derecha. Se selecciona el pivote $7$ y se particiona.\n",
        "\n",
        "$A =[1, 2, 4, (5, |7|, 8), 9, 14, 13, 10]$\n",
        "\n",
        "$7$ quedó en la posición 5, por lo tanto este es nuestro estadístico de orden 5.\n",
        "\n"
      ],
      "metadata": {
        "id": "10SMISqtiAPQ"
      }
    },
    {
      "cell_type": "markdown",
      "source": [
        "##3.4 Ejecución paso a paso (`verbose=True`)\n",
        "\n",
        "A continuación se expone como funciona **Select** paso a paso usando la variable `verbose`."
      ],
      "metadata": {
        "id": "Dvhg589zkJPe"
      }
    },
    {
      "cell_type": "code",
      "source": [
        "comparaciones = 0\n",
        "a = random.sample(range(0, 15), 10)\n",
        "\n",
        "i=Select(a,5,True)"
      ],
      "metadata": {
        "colab": {
          "base_uri": "https://localhost:8080/"
        },
        "id": "bw2FgEGXlDg-",
        "outputId": "a8215e9c-f84f-459a-cc14-fb65964ab12f"
      },
      "execution_count": 111,
      "outputs": [
        {
          "output_type": "stream",
          "name": "stdout",
          "text": [
            "Buscando estadístico de orden  5 en arreglo  [2, 1, 7, 5, 8, 11, 6, 10, 4, 14]\n",
            "Llamando recursivamente a Select con el arreglo de medianas\n",
            "Buscando estadístico de orden  1 en arreglo  [5, 10]\n",
            "Llamando recursivamente a Select con el arreglo de medianas\n",
            "Buscando estadístico de orden  0 en arreglo  [5]\n",
            "pivote seleccionado: 5 - posición del pivote: 0\n",
            "Encontrado estadístico de orden  1 :  5\n",
            "pivote seleccionado: 10 - posición del pivote: 7\n",
            "7 es mayor que 5 - particionando subarreglo izquierdo: [1, 2, 5, 7, 8, 4, 6]\n",
            "Llamando recursivamente a Select con el arreglo de medianas\n",
            "Buscando estadístico de orden  1 en arreglo  [5, 4]\n",
            "Llamando recursivamente a Select con el arreglo de medianas\n",
            "Buscando estadístico de orden  0 en arreglo  [4]\n",
            "pivote seleccionado: 4 - posición del pivote: 0\n",
            "Encontrado estadístico de orden  1 :  4\n",
            "pivote seleccionado: 5 - posición del pivote: 3\n",
            "3 es menor que 5 - particionando subarreglo derecho: [8, 6, 7]\n",
            "Llamando recursivamente a Select con el arreglo de medianas\n",
            "Buscando estadístico de orden  0 en arreglo  [7]\n",
            "pivote seleccionado: 7 - posición del pivote: 5\n",
            "5 es mayor que 5 - particionando subarreglo izquierdo: [6]\n",
            "Llamando recursivamente a Select con el arreglo de medianas\n",
            "Buscando estadístico de orden  0 en arreglo  [6]\n",
            "pivote seleccionado: 6 - posición del pivote: 4\n",
            "Encontrado estadístico de orden  5 :  6\n"
          ]
        }
      ]
    }
  ]
}