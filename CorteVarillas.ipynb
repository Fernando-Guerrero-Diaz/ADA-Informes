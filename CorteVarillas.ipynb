{
  "nbformat": 4,
  "nbformat_minor": 0,
  "metadata": {
    "colab": {
      "provenance": [],
      "authorship_tag": "ABX9TyNXju+non3dQXX4B26dDnbj",
      "include_colab_link": true
    },
    "kernelspec": {
      "name": "python3",
      "display_name": "Python 3"
    },
    "language_info": {
      "name": "python"
    }
  },
  "cells": [
    {
      "cell_type": "markdown",
      "metadata": {
        "id": "view-in-github",
        "colab_type": "text"
      },
      "source": [
        "<a href=\"https://colab.research.google.com/github/Fernando-Guerrero-Diaz/ADA-Informes/blob/main/CorteVarillas.ipynb\" target=\"_parent\"><img src=\"https://colab.research.google.com/assets/colab-badge.svg\" alt=\"Open In Colab\"/></a>"
      ]
    },
    {
      "cell_type": "markdown",
      "source": [
        "#1. Problema de Corte de Varillas\n",
        "\n",
        "**Entrada:** largo $n$ de una varilla, vector de precios $p$ por cada medida $i$ de la varilla \n",
        "\n",
        "**Salida**: Ganancias máximas posibles $r_n$ luego de cortar la varilla y vender sus partes\n",
        "\n",
        "El corte de varillas es un problema de optimización, en el cual buscamos maximizar el retorno obtenido al cortar una varilla de largo variable. Ya que al cortar la varilla se crean varillas mas cortas, maximizar la ganancia obtenida por estas varillas es un problema de cierto modo redundante. Como se verá en el siguiente informe, aplicar programación dinamica para resolver este problema nos permitirá ahorrar memoria y resolver el problema más rapido que con una implementación netamente recursiva."
      ],
      "metadata": {
        "id": "8UDaHgpoYUek"
      }
    },
    {
      "cell_type": "markdown",
      "source": [
        "#2. RecursiveCut\n",
        "\n",
        "A continuación se presenta la solución recursiva para el corte de varillas.\n",
        "\n",
        "##2.1 Código"
      ],
      "metadata": {
        "id": "f4tCWgNzat4c"
      }
    },
    {
      "cell_type": "code",
      "source": [
        "def RecursiveCut(n,p,verbose=False, indent = \"\"):\n",
        "  global recursions\n",
        "  cuts = []\n",
        "  if verbose: print(indent,\"Cortando una varilla de largo n:\",n)\n",
        "  if verbose: print(indent,\"Recursiones:\",recursions)\n",
        "  if n<=0:\n",
        "      if verbose: print(indent,\"Caso base, retornando 0\")\n",
        "      return 0,cuts\n",
        "  max = 0\n",
        "  for i in range(1,n+1):\n",
        "    if verbose: print(indent,\"maximo actual:\", max)\n",
        "    if verbose: print(indent,\"tmp = p[\", i, \"] + RecursiveCut(\", n-i ,\",p)\")\n",
        "    recursions+=1\n",
        "    Rmax,Rcuts = RecursiveCut(n-i,p,verbose,(indent + \"  \"))\n",
        "    tmp = p[i] + Rmax\n",
        "    if (tmp>max):\n",
        "       max = tmp\n",
        "       cuts= [i] + Rcuts\n",
        "       if verbose: print(indent,\"Nuevo maximo.\")\n",
        "  if verbose: print(indent,\"retornando maximo:\", max, \"cortes:\", cuts)\n",
        "  return max,cuts\n",
        "\n",
        "p = [0,1,5,8,9,10,17,17,20,24,30]\n",
        "recursions = 0\n",
        "n =9\n",
        "r,c = RecursiveCut(n,p)\n",
        "print(\"Maximo retorno posible de varilla de largo\", n, \":\",r)\n",
        "print(\"Llamadas recursivas:\", recursions)\n",
        "print(\"cortes:\", c)"
      ],
      "metadata": {
        "colab": {
          "base_uri": "https://localhost:8080/"
        },
        "id": "Dvk5zo38bKSI",
        "outputId": "8e6b4ada-a160-41e9-a0ea-2a7712fd01a7"
      },
      "execution_count": 21,
      "outputs": [
        {
          "output_type": "stream",
          "name": "stdout",
          "text": [
            "Maximo retorno posible de varilla de largo 9 : 25\n",
            "Llamadas recursivas: 511\n",
            "cortes: [3, 6]\n"
          ]
        }
      ]
    },
    {
      "cell_type": "markdown",
      "source": [
        "##2.2 Descripción del Algoritmo\n",
        "\n",
        "El algoritmo **RecursiveCut** recibe como entrada el largo de varilla `n` y el vector de precios `p`.\n",
        "\n",
        "1. Se define una variable `max` con valor ínfimo, un vector `cuts` vacío para almacenar los largos de las varillas cortadas, y la variable global `recursions` para contar el número de recursones.\n",
        "2. Si `n =< 0` se retorna `0` y `cuts` vacío.\n",
        "2. Se entra en un for loop que itera con un `i` desde `1` hasta `n`. \n",
        "Usando el vector de precios, se calcula un máximo temporal `tmp` y se le asigna como valor la suma de `p[i]` mas el primer retorno `Rmax` de una llamada recursiva de **RecursiveCut**, dandole como entrada un largo `n-i`. Si este `tmp` es mayor a `max`, a `max` se le asigna el valor de `tmp`, y designamos a `cuts` igual a `[i] + Rcuts`, donde `Rcuts` es el arreglo de cortes que retornó la anterior llamada de **RecursiveCut**\n",
        "3. Una vez finalizado el loop, se retorna el valor de `max`"
      ],
      "metadata": {
        "id": "JeR2Mx7ibKxr"
      }
    },
    {
      "cell_type": "markdown",
      "source": [
        "##2.3 Ejemplo\n",
        "\n",
        "Digamos que queremos cortar una varilla de largo $3$, y el vector de precios es el siguiente: $[1,5,8]$\n",
        "\n",
        "1. Definimos el $max$ y le damos valor $0$.\n",
        "2. Entramos a la primera iteración del for loop, con $i=1$. Para calcular el valor temporal $tmp$ sumamos $p[1]$ con el retorno de una llamada recursiva de **RecursiveCut** con largo $2$.\n",
        "\n",
        "  2.1. En esta primera llamada recursiva, definimos un $max =0$ y empezamos a iterar. En la primera iteración, para calcular el $tmp$, se suma $p[1]$ con el retorno de **RecursiveCut**($1,p$).\n",
        "\n",
        "     2.1.1 En esta llamada recursiva, no se puede cortar más, por lo que se retorna el valor de una varilla de largo $1$, que vale $1$.\n",
        "\n",
        "  2.2 $tmp$ vale $1+1 = 2$. Este será un nuevo $max$. \n",
        "  \n",
        "  2.3 Se entra a la siguiente iteración, que obtiene un $tmp = p[2] + 0 = 5$. (**RecursiveCut**($0,p$) siempre retorna $0$. Este $5$ será el nuevo $max$ ya que es mayor a $2$. \n",
        "\n",
        "  2.4 Terminamos de iterar, asi que retornamos $max = 5$\n",
        "3. El $tmp$ calculado es igual a $1+5=6$. Este será nuestro primer $max$.\n",
        "4. Entra a la segunda iteración, con $i=2$. Calcula un $tmp$ igual a la suma de $p[2]$ con el retorno de **RecursiveCut**($1,p$).\n",
        "\n",
        "  4.1  En esta llamada recursiva, no se puede cortar más, por lo que se retorna el valor de una varilla de largo $1$, que vale $1$.\n",
        "5. El $tmp$ resultante es igual a $max$, por lo que no cambia.\n",
        "6. En la tercera y última iteración, se calcula $tmp= p[3] + 0 = 8$. Este será el nuevo $max$.\n",
        "7. Finalmente, despues de 5 llamadas recursivas, se retorna $8$."
      ],
      "metadata": {
        "id": "0kZirQeieNfe"
      }
    },
    {
      "cell_type": "markdown",
      "source": [
        "##2.4 Ejecución paso a paso (`verbose = True`)"
      ],
      "metadata": {
        "id": "_b5j1XOhlQur"
      }
    },
    {
      "cell_type": "code",
      "source": [
        "p = [0,1,5,8,9,10,17,17,20,24,30]\n",
        "recursions = 0\n",
        "n = 3\n",
        "r,c = RecursiveCut(n,p,True)\n",
        "print(\"Maximo retorno:\",r)"
      ],
      "metadata": {
        "id": "VupGGtfAl2kR",
        "colab": {
          "base_uri": "https://localhost:8080/"
        },
        "outputId": "7d3ee214-969c-4638-ef09-b0e95d4a79a9"
      },
      "execution_count": null,
      "outputs": [
        {
          "output_type": "stream",
          "name": "stdout",
          "text": [
            " Cortando una varilla de largo n: 3\n",
            " Recursiones: 0\n",
            " maximo actual: 0\n",
            " tmp = p[ 1 ] + RecursiveCut( 2 ,p)\n",
            "   Cortando una varilla de largo n: 2\n",
            "   Recursiones: 1\n",
            "   maximo actual: 0\n",
            "   tmp = p[ 1 ] + RecursiveCut( 1 ,p)\n",
            "     Cortando una varilla de largo n: 1\n",
            "     Recursiones: 2\n",
            "     maximo actual: 0\n",
            "     tmp = p[ 1 ] + RecursiveCut( 0 ,p)\n",
            "       Cortando una varilla de largo n: 0\n",
            "       Recursiones: 3\n",
            "       Caso base, retornando 0\n",
            "     Nuevo maximo.\n",
            "     retornando maximo: 1 cortes: [1]\n",
            "   Nuevo maximo.\n",
            "   maximo actual: 2\n",
            "   tmp = p[ 2 ] + RecursiveCut( 0 ,p)\n",
            "     Cortando una varilla de largo n: 0\n",
            "     Recursiones: 4\n",
            "     Caso base, retornando 0\n",
            "   Nuevo maximo.\n",
            "   retornando maximo: 5 cortes: [2]\n",
            " Nuevo maximo.\n",
            " maximo actual: 6\n",
            " tmp = p[ 2 ] + RecursiveCut( 1 ,p)\n",
            "   Cortando una varilla de largo n: 1\n",
            "   Recursiones: 5\n",
            "   maximo actual: 0\n",
            "   tmp = p[ 1 ] + RecursiveCut( 0 ,p)\n",
            "     Cortando una varilla de largo n: 0\n",
            "     Recursiones: 6\n",
            "     Caso base, retornando 0\n",
            "   Nuevo maximo.\n",
            "   retornando maximo: 1 cortes: [1]\n",
            " maximo actual: 6\n",
            " tmp = p[ 3 ] + RecursiveCut( 0 ,p)\n",
            "   Cortando una varilla de largo n: 0\n",
            "   Recursiones: 7\n",
            "   Caso base, retornando 0\n",
            " Nuevo maximo.\n",
            " retornando maximo: 8 cortes: [3]\n",
            "Maximo retorno: 8\n"
          ]
        }
      ]
    },
    {
      "cell_type": "markdown",
      "source": [
        "#3. BottomUpCut\n",
        "A continuación, se presenta la solución del problema usando programación dinámica, con enfoque bottom-up\n",
        "\n",
        "##3.1. Código"
      ],
      "metadata": {
        "id": "4p4pPpSWlX5D"
      }
    },
    {
      "cell_type": "code",
      "source": [
        "import random\n",
        "\n",
        "def cutrod_instance_generator(N):\n",
        "  A = [0]\n",
        "  prev = 0\n",
        "  for i in range(N):\n",
        "    r=random.randint(0,10)\n",
        "    A.append(prev+r)\n",
        "    prev+=r\n",
        "  return A\n",
        "\n",
        "\n",
        "def BottomUpCut(n,p,verbose=False):\n",
        "  r = {}\n",
        "  if n<= 0: return 0,[]\n",
        "  for i in range(0,n+1):\n",
        "    if verbose: print(\" Calculo bottom up de varilla largo:\", i)\n",
        "    r[i]=[0,[]]\n",
        "    for j in range(1,i+1):\n",
        "      tmp = p[j] + r[i-j][0]\n",
        "      if verbose: print(\"  comparando \", r[i][0], \"con \", p[j], \"+\", r[i-j][0])\n",
        "      if tmp > r[i][0]:\n",
        "        r[i][0]=tmp\n",
        "        r[i][1]= [j] + r[i-j][1]\n",
        "        if verbose: print(\" nuevo maximo para varilla de largo\", i, \":\", r[i][0], \", cortes:\", r[i][1])\n",
        "\n",
        "  if verbose: print(\"Retorno maximo para varilla de largo\", n, \":\", r[n][0], \", cortes:\", r[n][1])\n",
        "  return r[n]\n",
        "\n",
        "p = [0,1,5,8,9,10,17,17,20,24,30]\n",
        "n = 7\n",
        "r,c = BottomUpCut(n,p)\n",
        "print(\"Maximo retorno:\",r)\n",
        "print(c)"
      ],
      "metadata": {
        "colab": {
          "base_uri": "https://localhost:8080/"
        },
        "id": "cFAlKLGA3GSm",
        "outputId": "017d8745-2a10-429e-8ce5-ce4959b38842"
      },
      "execution_count": 11,
      "outputs": [
        {
          "output_type": "stream",
          "name": "stdout",
          "text": [
            "Maximo retorno: 18\n",
            "[1, 6]\n"
          ]
        }
      ]
    },
    {
      "cell_type": "markdown",
      "source": [
        "##3.2. Descripción del algoritmo\n",
        "\n",
        "El algoritmo **BottomUpCut** recibe como entrada el largo de varilla `n` y el vector de precios `p`.\n",
        "\n",
        "1. Se define una diccionario `r` en el cual se le asignará a cada longitud de varilla un retorno máximo y un arreglo con los largos de cortes requeridos. Inicializamos el `r[0]`, dándole máximo `0` y arreglo de cortes vacio.\n",
        "2. Si `n =< 0` se retorna `0` y arreglo de cortes vacío.\n",
        "2. Se entra en un for loop que itera con un `i` desde `1` hasta `n` inclusive. Inicializamos el `r[i]` con máximo `0` y cortes vacío. Luego entramos a otro loop, iterando con un `j` que va de `1` hasta `i`. Usando el vector de precios, se calcula un máximo temporal `tmp` y se le asigna como valor la suma de `p[j]` mas el máximo que se encuentre en `r[i-j][0]`.\n",
        " Si este `tmp` es mayor a `r[i][0]` , a `r[i][0]` se le asigna el valor de `tmp`, y designamos a `r[i][1]` igual a `[j] + r[i-j][1]`. Una vez termina este loop, se tiene el máximo para varilla de largo `i`, y esto continúa hasta que `i==n`.\n",
        "3. Una vez finalizado el loop, se retorna `r[n]`."
      ],
      "metadata": {
        "id": "xoIFJaw6OnTT"
      }
    },
    {
      "cell_type": "markdown",
      "source": [
        "##3.3. Ejemplo\n",
        "\n",
        "A modo de ejemplo, calcularemos el mismo retorno de una varilla con largo $3$ usando el mismo vector de precios $P=[1,5,8]$\n",
        "\n",
        "1. Se inicializa el diccionario $r$ y declaramos $r[0] = 0$.\n",
        "2. Calculamos $r[1]$. Lógicamente, solo puede ser igual a $P[1]= 1$.\n",
        "3. Calculamos $r[2]$. Se itera desde $1$ a $2$, calculando el máximo entre $P[2]$ y $P[1] + r[1]$. $P[2] = 5 > 1+1$, por lo que este es el máximo que guarda $r[2]$.\n",
        "4. Calculamos $r[3]$. Se busca el máximo entre $P[3] = 8$, $P[2] + r[1] = 6$ y $P[1] + r[2] = 6$.\n",
        "5. Finalmente retornamos $r[3] = 8$.\n"
      ],
      "metadata": {
        "id": "c2EF9iztSR5F"
      }
    },
    {
      "cell_type": "markdown",
      "source": [
        "##3.4 Ejecución paso a paso (`verbose = True`)"
      ],
      "metadata": {
        "id": "FJ0kCUvTXoiL"
      }
    },
    {
      "cell_type": "code",
      "source": [
        "p = cutrod_instance_generator(10)\n",
        "print (\"Vector de precios aleatorio:\", p)\n",
        "n = 7\n",
        "r,c = BottomUpCut(n,p,True)\n",
        "print(\"Maximo retorno:\",r)\n",
        "print(\"cortes\",c)"
      ],
      "metadata": {
        "colab": {
          "base_uri": "https://localhost:8080/"
        },
        "id": "l-9cNWcxXvOr",
        "outputId": "ab6072ec-51ad-442b-ab90-33cda3565af0"
      },
      "execution_count": 19,
      "outputs": [
        {
          "output_type": "stream",
          "name": "stdout",
          "text": [
            "Vector de precios aleatorio: [0, 2, 10, 18, 24, 25, 29, 35, 37, 42, 43]\n",
            " Calculo bottom up de varilla largo: 0\n",
            " Calculo bottom up de varilla largo: 1\n",
            "  comparando  0 con  2 + 0\n",
            " nuevo maximo para varilla de largo 1 : 2 , cortes: [1]\n",
            " Calculo bottom up de varilla largo: 2\n",
            "  comparando  0 con  2 + 2\n",
            " nuevo maximo para varilla de largo 2 : 4 , cortes: [1, 1]\n",
            "  comparando  4 con  10 + 0\n",
            " nuevo maximo para varilla de largo 2 : 10 , cortes: [2]\n",
            " Calculo bottom up de varilla largo: 3\n",
            "  comparando  0 con  2 + 10\n",
            " nuevo maximo para varilla de largo 3 : 12 , cortes: [1, 2]\n",
            "  comparando  12 con  10 + 2\n",
            "  comparando  12 con  18 + 0\n",
            " nuevo maximo para varilla de largo 3 : 18 , cortes: [3]\n",
            " Calculo bottom up de varilla largo: 4\n",
            "  comparando  0 con  2 + 18\n",
            " nuevo maximo para varilla de largo 4 : 20 , cortes: [1, 3]\n",
            "  comparando  20 con  10 + 10\n",
            "  comparando  20 con  18 + 2\n",
            "  comparando  20 con  24 + 0\n",
            " nuevo maximo para varilla de largo 4 : 24 , cortes: [4]\n",
            " Calculo bottom up de varilla largo: 5\n",
            "  comparando  0 con  2 + 24\n",
            " nuevo maximo para varilla de largo 5 : 26 , cortes: [1, 4]\n",
            "  comparando  26 con  10 + 18\n",
            " nuevo maximo para varilla de largo 5 : 28 , cortes: [2, 3]\n",
            "  comparando  28 con  18 + 10\n",
            "  comparando  28 con  24 + 2\n",
            "  comparando  28 con  25 + 0\n",
            " Calculo bottom up de varilla largo: 6\n",
            "  comparando  0 con  2 + 28\n",
            " nuevo maximo para varilla de largo 6 : 30 , cortes: [1, 2, 3]\n",
            "  comparando  30 con  10 + 24\n",
            " nuevo maximo para varilla de largo 6 : 34 , cortes: [2, 4]\n",
            "  comparando  34 con  18 + 18\n",
            " nuevo maximo para varilla de largo 6 : 36 , cortes: [3, 3]\n",
            "  comparando  36 con  24 + 10\n",
            "  comparando  36 con  25 + 2\n",
            "  comparando  36 con  29 + 0\n",
            " Calculo bottom up de varilla largo: 7\n",
            "  comparando  0 con  2 + 36\n",
            " nuevo maximo para varilla de largo 7 : 38 , cortes: [1, 3, 3]\n",
            "  comparando  38 con  10 + 28\n",
            "  comparando  38 con  18 + 24\n",
            " nuevo maximo para varilla de largo 7 : 42 , cortes: [3, 4]\n",
            "  comparando  42 con  24 + 18\n",
            "  comparando  42 con  25 + 10\n",
            "  comparando  42 con  29 + 2\n",
            "  comparando  42 con  35 + 0\n",
            "Retorno maximo para varilla de largo 7 : 42 , cortes: [3, 4]\n",
            "Maximo retorno: 42\n",
            "cortes [3, 4]\n"
          ]
        }
      ]
    },
    {
      "cell_type": "markdown",
      "source": [
        "#4. Correctitud\n",
        "\n",
        "**Teorema:**  *El algoritmo **BottomUpCut** retorna la ganancia máxima posible al cortar una varilla de largo n, usando un vector de precios para cada longitud de varilla.* \n",
        "\n",
        "Usando inducción, podemos probar que el algoritmo **BottomUpCut** es correcto. Designando al problema como $P(n)$, debemos probar que:\n",
        "\n",
        "1. $P(1)$ Es correcto. Lógicamente, cuando la ongitud es $1$, Lo único que ppuede retornar como máximo es $p[1]$, y efectivamente eso es lo que hace el código, por lo que es correcto.\n",
        "\n",
        "2. Si $P(m)$ Es correcto para $m < n $, entonces probar $P(n)$. En el código, en la última iteración, se busca el máximo calculando la suma de $p[j] + r[n-j]$, con $j<n$. Si consideramos $m=n-j$, entonces estos son máximos correctos, por lo que el máximo para n será correcto también.\n",
        "\n",
        "Por lo tanto, el algoritmo es correcto."
      ],
      "metadata": {
        "id": "kvXeLe4uY2WV"
      }
    },
    {
      "cell_type": "markdown",
      "source": [
        "#5. Complejidad\n",
        "\n",
        "##5.1 Número de operaciones / Tiempo de ejecución\n",
        "Considerando sólamente el algorítmo **BottomUpCut**, podemos decir que para resolver el problema de corte de varillas de tamaño $N$, hay que resolver $N$ subproblemas, correspondientes a calcular los máximos para cada largo $i$ menor a $N$. Para calcular estos máximos, el algoritmo recorre desde $1$ hasa $i$, realizando una suma y comparación. Por lo tanto, el número de operaciones requeridas para un problema de tamaño $N$ es el siguiente:\n",
        "\n",
        "$X(N) = \\sum_{i=1}^N \\sum_{j=1}^i 2 =\\sum_{i=1}^N 2i = N(N+1)$\n",
        "\n",
        "Por lo tanto, podemos aseverar que **BottomUpCut** tendrá una cota temporal asintótica de $O(N)$\n",
        "\n",
        "##5.2 Complejidad espacial\n",
        "\n",
        "En **BottomUpCut**, el algoritmo maneja un diccionario en el cual almacena los máximos que calcula para longitudes menores. Una vez terminada la ejecución, el diccionario tendrá solamente N elementos, por lo que podemos decir que la complejidad espacial es de orden N.\n"
      ],
      "metadata": {
        "id": "_KDFBY3bfAtj"
      }
    },
    {
      "cell_type": "markdown",
      "source": [
        "#6. Experimentos\n",
        "\n",
        "##6.1 RecursiveCut vs BottomUpCut\n",
        "\n",
        "A continuación se graficará el tiempo de ejecución que requiere la implementación recursiva en contraste con la implementación usando programación dinámica."
      ],
      "metadata": {
        "id": "PlgpqDPNz3rj"
      }
    },
    {
      "cell_type": "code",
      "source": [
        "import matplotlib.pyplot as plt\n",
        "import datetime\n",
        "from timeit import repeat\n",
        "\n",
        "\n",
        "\n",
        "x=[] \n",
        "y1=[]\n",
        "y2=[]\n",
        "\n",
        "recursions = 0\n",
        "\n",
        "for n in range(5,10):\n",
        "  p = cutrod_instance_generator(n)\n",
        "  t1 = repeat(setup=\"from __main__ import RecursiveCut\", stmt=f\"RecursiveCut({n},{p})\", repeat=1, number=10)\n",
        "  t2 = repeat(setup=\"from __main__ import BottomUpCut\", stmt=f\"BottomUpCut({n},{p})\", repeat=1, number=10)\n",
        "  x.append(n)\n",
        "  y1.append(t1)\n",
        "  y2.append(t2)\n",
        "\n",
        "plt.plot(x,y1)\n",
        "plt.plot(x,y2)\n",
        "plt.legend([\"RecursiveCut\", \"BottomUpCut\"])\n",
        "\n",
        "\n",
        "plt.xlabel('n')\n",
        "plt.ylabel('time in ms')\n",
        "plt.show()"
      ],
      "metadata": {
        "colab": {
          "base_uri": "https://localhost:8080/",
          "height": 279
        },
        "id": "0nMxVnNn0XGu",
        "outputId": "ac845d79-9097-40ec-94aa-51d55da3a7d2"
      },
      "execution_count": 22,
      "outputs": [
        {
          "output_type": "display_data",
          "data": {
            "text/plain": [
              "<Figure size 432x288 with 1 Axes>"
            ],
            "image/png": "[encoded data removed]"
          },
          "metadata": {
            "needs_background": "light"
          }
        }
      ]
    },
    {
      "cell_type": "markdown",
      "source": [
        "Claramente, el tiempo de **BottomUpCut** es mucho más llevadero, considerando lo rápido que crece la alternativa recursiva en comparación, ya que este tiene un crecimiento en orden de $a^n$, mucho más grande que $n^2$."
      ],
      "metadata": {
        "id": "SIdZxDKj1YSI"
      }
    }
  ]
}