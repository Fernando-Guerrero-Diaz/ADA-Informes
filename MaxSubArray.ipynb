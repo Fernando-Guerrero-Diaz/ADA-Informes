{
  "nbformat": 4,
  "nbformat_minor": 0,
  "metadata": {
    "colab": {
      "provenance": [],
      "collapsed_sections": [],
      "authorship_tag": "ABX9TyPkbQhy5i1+uh+9fEASNvRY",
      "include_colab_link": true
    },
    "kernelspec": {
      "name": "python3",
      "display_name": "Python 3"
    },
    "language_info": {
      "name": "python"
    }
  },
  "cells": [
    {
      "cell_type": "markdown",
      "metadata": {
        "id": "view-in-github",
        "colab_type": "text"
      },
      "source": [
        "<a href=\"https://colab.research.google.com/github/Fernando-Guerrero-Diaz/ADA-Informes/blob/main/MaxSubArray.ipynb\" target=\"_parent\"><img src=\"https://colab.research.google.com/assets/colab-badge.svg\" alt=\"Open In Colab\"/></a>"
      ]
    },
    {
      "cell_type": "markdown",
      "source": [
        "#1. Problema del Subarreglo máximo\n",
        "\n",
        "**Entrada:** Arreglo de n valores numéricos, positivos y negativos. $A=[a_1, a_2, ..., a_n]$\n",
        "\n",
        "**Salida**: Subarreglo de A, tal que la sumatoria de sus elementos sea mayor o igual a la sumatoria de los otros subarreglos de A. \n",
        "\n",
        "Uno de los problemas de optimización es el problema del subarreglo máximo. Digamos que por ejemplo, tenemos un gráfico del futuro, detallando los valores de las acciones de alguna compañía en la bolsa. Nos entregan una cantidad de dinero, y tenemos que obtener la mayor cantidad de ganancia comprando y vendiendo una sola vez.\n",
        "\n",
        "\n",
        "El gráfico puede reescribirse de modo que registre la diferencia en el valor de cada día. De este modo, lo que debemos hacer para saber cuando comprar y vender es **encontrar el arreglo donde la suma de valores sea máxima.**\n",
        "\n",
        "Sin embargo, un arreglo de n elementos tiene aproximádamente $\\Theta(n^2)$ subarreglos, y realizar una suma de subarreglos tiene tiempo de ejecución $O(n)$, por lo que una solución que compare subarreglos sería bastante costosa.\n",
        "\n",
        "Para evitar estos costos, podemos en cambio usar un algoritmo recursivo. A continuación se presenta una implementación y explicación del algoritmo recursivo **MaxSubArray**."
      ],
      "metadata": {
        "id": "TMoFmMBRP3Ll"
      }
    },
    {
      "cell_type": "markdown",
      "source": [
        "#2. Función MaxMidArray\n",
        "\n",
        "El algoritmo **MaxSubArray** depende en su funcionamiento de la función **MaxSubArrayMid**, la cual calcula el subarreglo máximo que contiene al elemento del medio.\n",
        "##2.1 Descripción del Algoritmo\n",
        "La función recibe como entrada al arreglo `array` y a tres índices, `start`, `mid` y `end`, que corresponden al inicio, mitad y fin del subarreglo que queremos analizar. Esta función retorna los índices del subarreglo máximo encontrado en este subarreglo, junto al valor de la sumatoria de sus elementos.\n",
        "1. Primero, definimos a `max` y le asignamos el valor de `array[mid]`. Definimos también a `max_start` y `max_end`, asignándole el valor de `mid` a ambos. Estos serán los valores de retorno.\n",
        "2. Definimos al iterador `i`, asignándole valor `mid - 1`. tambíen creamos a `sum`, que guardará el valor de la sumatoria y le asignamos el valor de `max`.\n",
        "3. Recorremos el `array` desde `mid` hasta `start`, agregando el valor de `array[i]` a `sum`. Si este `sum` queda mayor a `max`, lo guardamos como nuevo `max`y guardamos el valor de `i` en `max_start`, definiendo el inicio del subarreglo máximo.\n",
        "4. Una vez recorrida la primera mitad del arreglo, se hace lo mismo, recorriendo desde `mid` hasta `end`y definiendo al nuevo `max_end` si es necesario.\n",
        "5. Ya recorridos ambos lados del arreglo, se retorna `max_start`, `max_end`y `max`.\n",
        "##2.2 Código\n"
      ],
      "metadata": {
        "id": "yGuHNCANZYur"
      }
    },
    {
      "cell_type": "code",
      "source": [
        "def MaxSubArrayMid(array,start,mid,end):\n",
        "    max = array[mid]\n",
        "    max_start = mid\n",
        "    max_end = mid\n",
        "    sum = max\n",
        "    i=mid-1\n",
        "    while(i>=start):\n",
        "      sum += array[i]\n",
        "      if (sum > max):\n",
        "        max=sum\n",
        "        max_start = i\n",
        "      i-=1\n",
        "    i = mid+1\n",
        "    sum = max\n",
        "    while (i<end):\n",
        "      sum += array[i]\n",
        "      if (sum > max) :  \n",
        "        max = sum\n",
        "        max_end = i\n",
        "      i+=1\n",
        "    return max_start, max_end, max\n",
        "\n",
        "\n",
        "a=[-10, 2, 0, -1, 3, -1, 5, 4, -3, -7, 3]\n",
        "print(a)\n",
        "start,end,max = MaxSubArrayMid(a, 0, int(len(a)/2), len(a))\n",
        "print('Subarreglo máximo en mid:', a[start:end+1], 'max:', max)"
      ],
      "metadata": {
        "colab": {
          "base_uri": "https://localhost:8080/"
        },
        "id": "L-M7PvZsbgum",
        "outputId": "511eecda-f08c-44cb-e993-62c79b0b403a"
      },
      "execution_count": null,
      "outputs": [
        {
          "output_type": "stream",
          "name": "stdout",
          "text": [
            "[-10, 2, 0, -1, 3, -1, 5, 4, -3, -7, 3]\n",
            "Subarreglo máximo en mid: [2, 0, -1, 3, -1, 5, 4] max: 12\n"
          ]
        }
      ]
    },
    {
      "cell_type": "markdown",
      "source": [
        "##2.3 Ejemplo\n",
        "\n",
        "DIgamos que tenemos al arreglo $A=[-2, 3, -1, 2, -3]$. Llamamos a **MaxSubArrayMid** para encontrar al subarreglo máximo que contiene al elemento del medio.\n",
        "El subarreglo máximo temporal lo vamos a guardar en un arreglo $B$ a modo de ilustración.\n",
        "\n",
        "$A=[-2, 3, -1, 2, -3]$ , $B=[-1]$ , $max=-1$ , $sum = -1$\n",
        "\n",
        "Desde el medio recorremos hacia la izquierda, y sumamos $3$ a $sum$. Como queda con valor $2$, este será el nuevo $max$, y agregaremos $3$ al inicio del arreglo $B$\n",
        "\n",
        "$A=[-2, 3, -1, 2, -3]$ , $B=[3, -1]$ , $max=2$ , $sum = 2$\n",
        "\n",
        "Seguimos recorriendo, sumándole ahora $-2$ a $sum$. Este va a quedar menor que $max$, por lo que éste y $B$ se mantienen iguales.\n",
        "\n",
        "$A=[-2, 3, -1, 2, -3]$ , $B=[3, -1]$ , $max=2$ , $sum = 0$\n",
        "\n",
        "Ya que llegamos al principio de $A$, retornamos al medio y empezamos a recorrer el arreglo hacia la derecha. A $sum$ le asignamos el valor de $max$ y le sumamos el elemento siguiente, el cual es $2$. Ya que $sum$ queda mayor, este será el nuevo $max$\n",
        "\n",
        "$A=[-2, 3, -1, 2, -3]$ , $B=[3, -1, 2]$ , $max=4$ , $sum = 4$\n",
        "\n",
        "Finalmente, llegamos al final de $A$, sumamos $-3$ a $sum$. Queda menor a $max$, por lo que no se hacen cambios.\n",
        "\n",
        "$A=[-2, 3, -1, 2, -3]$ , $B=[3, -1, 2]$ , $max=4$ , $sum = 1$\n",
        "\n",
        "Concluido el algoritmo, quedamos con el subarreglo máximo que contiene al elemento del medio.\n",
        "\n",
        "$A=[-2, 3, -1, 2, -3]$ , $B=[3, -1, 2]$ , $max=4$ "
      ],
      "metadata": {
        "id": "og0ysK5PmqmA"
      }
    },
    {
      "cell_type": "markdown",
      "source": [
        "#3. Función MaxSubArray\n",
        "\n",
        "##3.1 Descripción del algoritmo\n",
        "\n",
        "El algoritmo recibe como entrada al arreglo `array` y a dos índices, `start` y `end`, los cuales representan el inicio y final del subarreglo que queremos analizar. Este retorna los índices del subarreglo máximo encontrado junto con el valor de su sumatoria para propósitos comparativos.\n",
        "\n",
        "1. Primero, tenemos condición de termino. Si `start` es mayor o igual a `end`, esto significa que el subarreglo es de un elemento, por lo cual el subarreglo máximo es si mismo. Retorna al `start`y `end` que recibió, junto al valor de `array[start]`.\n",
        "2. Luego, definimos a un índice `mid`, el cual se encuentra justo a la mitad entre `start` y `end`.\n",
        "3. Llamamos recursivamente a **MaxSubArray**, esta vez con los índices `start` y `mid`. Esto calcula el subarreglo máximo que existe en el lado izquierdo, y los valores de retorno se guardan en `left_start`, `left_end` y `left_max`.\n",
        "4. Para el lado derecho, hacemos lo mismo, pero con índices `mid +1`y `end`. Lo que retorna se guarda en `right_start`, `right_end` y `right_max`.\n",
        "5. Se llama a la función **MaxSubArrayMid**, con entrada `array`, `start`, `mid` y `end`. Este retorna el subarreglo máximo que contiene al elemento en `mid`. Se guarda el retorno en `mid_start`, `mid_end` y `mid_max`.\n",
        "6. Finalmente, se comparan los máximos obtenidos y se retorna el subarreglo máximo correspondiente.\n",
        "\n",
        "##3.2 Código"
      ],
      "metadata": {
        "id": "WSAKRmNbVHRx"
      }
    },
    {
      "cell_type": "code",
      "execution_count": null,
      "metadata": {
        "colab": {
          "base_uri": "https://localhost:8080/"
        },
        "id": "je8bgtoxH7Ce",
        "outputId": "554bac45-b10b-4cdb-aed7-f090cb8e406e"
      },
      "outputs": [
        {
          "output_type": "stream",
          "name": "stdout",
          "text": [
            "[-4, 13, 6, 4, -10, -5, 15, 1]\n",
            "Subarreglo máximo de a: [13, 6, 4, -10, -5, 15, 1] max: 24\n"
          ]
        }
      ],
      "source": [
        "import random\n",
        "\n",
        "def MaxSubArray(array, start,end,verbose=False):\n",
        "    if start>end: return start,end, 0\n",
        "    if start==end: \n",
        "      if end==len(array):return start-1, end, array[start-1]\n",
        "      return start,end+1, array[start]\n",
        "    if end == start + 1: return start, end, array[start]\n",
        "    mid = start +int((end-start)/2)\n",
        "    if verbose: print(\"llamando a MaxSubArray para la mitad izquierda de\", array[start:end])\n",
        "    left_start, left_end, left_max = MaxSubArray(array,start,mid, verbose)\n",
        "    if verbose: print('Subarreglo máximo izquierdo:',array[left_start:left_end],' Máximo izquierdo:', left_max)\n",
        "    if verbose: print(\"llamando a MaxSubArray para la mitad derecha de\", array[start:end])\n",
        "    right_start, right_end, right_max = MaxSubArray(array, mid, end, verbose)\n",
        "    if verbose: print('Subarreglo máximo derecho:',array[right_start:right_end],' Máximo derecho:', right_max)\n",
        "    if verbose: print(\"llamando a MaxSubArrayMid para\", array[start:end])\n",
        "    mid_start, mid_end, mid_max = MaxSubArrayMid(array,start,mid,end)\n",
        "    if (right_max > mid_max and right_max > left_max):\n",
        "      return right_start, right_end, right_max\n",
        "    elif (left_max > mid_max and left_max > right_max):\n",
        "      return left_start, left_end, left_max\n",
        "    else:\n",
        "      return mid_start, mid_end, mid_max\n",
        "\n",
        "\n",
        "a = random.sample(range(-15, 20), 8)\n",
        "print(a)\n",
        "start,end,max = MaxSubArray(a, 0, len(a))\n",
        "print('Subarreglo máximo de a:', a[start:end+1], 'max:', max)"
      ]
    },
    {
      "cell_type": "markdown",
      "source": [
        "##3.3 Ejemplo\n",
        "\n",
        "Digamos que tenemos a un arreglo $A=[4,-5,-1,6,2]$ y llamamos a **MaxSubArray** para encontrar al subarreglo máximo.\n",
        "Entrando al algoritmo, llamamos recursivamente a MaxSubArray para las mitades de la izquierda y de la derecha.\n",
        "\n",
        "$B_1 =[4,-5]$ , $B_2=[6,2]$\n",
        "\n",
        "Nuevamente, llamamos recursivamente a MaxSubArray a las mitades de los subarreglos.\n",
        "\n",
        "$C_1 =[4]$ , $C_2=[-5]$ , $C_3 =[6]$ , $C_4=[2]$\n",
        "\n",
        "Naturalmente, como estos subarreglos solo tienen un elemento, cada uno es su subarreglo máximo.\n",
        "\n",
        "$MaxSubArray(C_1)= [4]$,$MaxSubArray(C_2)= [-5]$,$MaxSubArray(C_3)= [6]$,$MaxSubArray(C_4)= [2]$,\n",
        "\n",
        "Retornando al nivel superior, llamamos a **MaxSubArrayMid** para $B_1$ y $B_2$. \n",
        "\n",
        "$MaxSubArrayMid(B_1) = [4,-5]$ , $MaxSubArrayMid(B_2) = [6,2]$\n",
        "\n",
        "Ya que el máximo de $C_1$ es mayor que el máximo medio de de B1 obtenido en el paso anterior, es este el que se retorna como máximo subarreglo de $B_1$.\n",
        "\n",
        "$MaxSubArray(B_1)= [4] = B^´_1$,\n",
        "\n",
        "Para $B_2$, retornamos su máximo subarreglo, que en este caso es obtenido con MaxSubArrayMid, ya que la suma es superior.\n",
        "\n",
        "$MaxSubArray(B_2)= [6,2] = B^´_2$,\n",
        "\n",
        "Volviendo al primer nivel, llamamos a **MaxSubArrayMid** con el arreglo original $A$.\n",
        "\n",
        "$MaxSubArrayMid(A)= [-1,6,2] = A^´$\n",
        "\n",
        "Finalmente, vemos cual de estos subarreglos es el mayor.\n",
        "\n",
        "$Sum(B^´_1) = 4$\n",
        "\n",
        "$Sum(B^´_2) = 8$\n",
        "\n",
        "$Sum(A^´) = 7$\n",
        "\n",
        "$B^´_2$ tiene la mayor suma, por lo tanto se retorna como mácimo subarreglo. En fin:\n",
        "\n",
        "$MaxSubArray(A) = [6,2]$\n",
        "\n"
      ],
      "metadata": {
        "id": "PAVtjHmHjPfB"
      }
    },
    {
      "cell_type": "markdown",
      "source": [
        "##3.4 Ejecución paso a paso (`verbose = True`)"
      ],
      "metadata": {
        "id": "G-uith9pirIb"
      }
    },
    {
      "cell_type": "code",
      "source": [
        "a = [16,4,-8,-2]\n",
        "print(a)\n",
        "start,end,max = MaxSubArray(a, 0, len(a), True)\n",
        "print('Subarreglo máximo de a:', a[start:end+1], 'max:', max)"
      ],
      "metadata": {
        "id": "q_R440c9K0la",
        "colab": {
          "base_uri": "https://localhost:8080/"
        },
        "outputId": "b163afd2-a204-4e8f-8649-944e47a46a4f"
      },
      "execution_count": null,
      "outputs": [
        {
          "output_type": "stream",
          "name": "stdout",
          "text": [
            "[16, 4, -8, -2]\n",
            "llamando a MaxSubArray para la mitad izquierda de [16, 4, -8, -2]\n",
            "llamando a MaxSubArray para la mitad izquierda de [16, 4]\n",
            "Subarreglo máximo izquierdo: [16]  Máximo izquierdo: 16\n",
            "llamando a MaxSubArray para la mitad derecha de [16, 4]\n",
            "Subarreglo máximo derecho: [4]  Máximo derecho: 4\n",
            "llamando a MaxSubArrayMid para [16, 4]\n",
            "Subarreglo máximo izquierdo: [16]  Máximo izquierdo: 20\n",
            "llamando a MaxSubArray para la mitad derecha de [16, 4, -8, -2]\n",
            "llamando a MaxSubArray para la mitad izquierda de [-8, -2]\n",
            "Subarreglo máximo izquierdo: [-8]  Máximo izquierdo: -8\n",
            "llamando a MaxSubArray para la mitad derecha de [-8, -2]\n",
            "Subarreglo máximo derecho: [-2]  Máximo derecho: -2\n",
            "llamando a MaxSubArrayMid para [-8, -2]\n",
            "Subarreglo máximo derecho: []  Máximo derecho: -2\n",
            "llamando a MaxSubArrayMid para [16, 4, -8, -2]\n",
            "Subarreglo máximo de a: [16, 4] max: 20\n"
          ]
        }
      ]
    },
    {
      "cell_type": "markdown",
      "source": [
        "#4. Correctitud\n",
        "##4.1 Correctitud de MaxSubArrayMid\n",
        "\n",
        "### **Teorema (Correctitud)**\n",
        "\n",
        "*El algoritmo **MaxSubArrayMid** recibe un arreglo  `A` con índices `start`, `mid` y `end`, determinando el inicio, mitad y final de un subarreglo de A, y retorna indices al subarreglo máximo que contiene al elemento del medio.*\n",
        "\n",
        "## Prueba del Teorema\n",
        "\n",
        "Probaremos pues la siguientes **propiedad invariante del bucle** con `MaxSubArrayMid`:\n",
        "\n",
        ">Para el lado izquierdo, al comienzo de cada iteración `i`, la suma del subarreglo definido por `A[max_start:max_end]` es mayor que cualquier otra suma de subarreglos , para todos los subarreglos posibles en `A[j:max_end]` que contengan al elemento `A[mid]`, donde `j = mid-i < mid`.\n",
        "\n",
        ">Para el lado derecho, al comienzo de cada iteración `i`, la suma del subarreglo definido por `A[max_start:max_end]` es mayor que cualquier otra suma de subarreglos , para todos los subarreglos posibles en `A[max_start:i]` que contengan al elemento `A[mid]`, donde `i > mid`.\n",
        "\n",
        "**Inicialización: Lado Izquierdo**\n",
        "\n",
        "Antes de empezar a iterar al lado izquierdo, `max_start`y `max_end` son iguales a `mid`, y `i = 0`, por lo que `j= mid`. El unico subarreglo posible es el que sólo contiene a `A[mid]`, por lo que, trivialmente, el subarreglo es máximo.\n",
        "\n",
        "**Mantención: Lado Izquierdo**\n",
        "\n",
        "Usaremos inducción para probar que se la propiedad cumple en una iteración `n`, donde `0 < n < mid`. Asumiremos que se cumple para `m = n-1`, por lo tanto, el arreglo `A[max_start:max_end]` es subarreglo máximo de todos los arreglos posibles en `A[mid-m:mid]` que tengan al elemento del medio. \n",
        "\n",
        "Tenemos al valor `sum`, que por ahora contiene la sumatoria de `A[mid-m:mid]`. A este `sum` le sumaremos el valor de `A[mid-n]`, obteniendo pues la sumatoria de `A[mid-n:mid]`. Comparamos a este `sum` con `max`, que es la sumatoria de `A[max_start:max_end]`.\n",
        "\n",
        "A continuación se presentan dos casos:\n",
        "1. Si `sum > max`, entonces asignamos a `max_start` el valor de `mid-n`, definiendo pues al nuevo subarreglo máximo.\n",
        "2. Si `sum =< max` este no puede ser el subarreglo máximo, por lo tanto `max_start` sigue igual y se sigue avanzando.\n",
        "\n",
        "Por lo tanto, el subarreglo `A[max_start:max_end]` sigue siendo el subarreglo máximo que contiene al elemento del medio, desde `mid-n` hasta `mid`. \n",
        "\n",
        "**Inicialización: Lado derecho**\n",
        "\n",
        "Asumiendo que la iteración en el lado izquierdo fue correcta, el subarreglo `A[max_start:max_end]` es efectivamente el subarreglo máximo que contiene a `A[mid]`, de todos los casos posibles en `A[start:mid]`. Antes de iterar, sabemos que `max_end` siguie siendo `mid`, y al iterar, vamos a empezar desde i = mid + 1. Por lo tanto, antes de iterar, deberiamos considerar un i = mid. \n",
        "Por tanto, considerando la primera aseveración, se cumple que `A[max_start:max_end]` es el máximo subarreglo posible adentro de`A[max_start:i]`.\n",
        "\n",
        "**Mantención: Lado Derecho**\n",
        "\n",
        "Usaremos inducción para probar que se la propiedad cumple en una iteración `n`, donde `mid < n < end`. Asumiremos que se cumple para `m = n-1`, por lo tanto, el arreglo `A[max_start:max_end]` es subarreglo máximo de todos los arreglos posibles en `A[max_start:m]` que tengan al elemento del medio. \n",
        "\n",
        "Tenemos al valor `sum`, que por ahora contiene la sumatoria de `A[max_start:m]`. A este `sum` le sumaremos el valor de `A[n]`, obteniendo pues la sumatoria de `A[max_start:n]`. Comparamos a este `sum` con `max`, que es la sumatoria de `A[max_start:max_end]`.\n",
        "\n",
        "A continuación se presentan dos casos:\n",
        "1. Si `sum > max`, entonces asignamos a `max_end` el valor de `n`, definiendo pues al nuevo subarreglo máximo.\n",
        "2. Si `sum =< max` este no puede ser el subarreglo máximo, por lo tanto `max_end` sigue igual y se sigue avanzando.\n",
        "\n",
        "Por lo tanto, el subarreglo `A[max_start:max_end]` sigue siendo el subarreglo máximo que contiene al elemento del medio, desde `mid-n` hasta `mid`. \n",
        "\n",
        "**Correctitud:**\n",
        "\n",
        "Ya que las propiedades invariante del bucle propuestas se mantienen verdadera para iteración lateral, el algoritmo **MaxSubArrayMid** es correcto."
      ],
      "metadata": {
        "id": "44sCWpx6NJ6L"
      }
    },
    {
      "cell_type": "markdown",
      "source": [
        "##4.2 Correctitud de MaxSubArray\n",
        "\n",
        "### **Teorema (Correctitud)**\n",
        "\n",
        "*El algoritmo **MaxSubArray** recibe un arreglo  `A` de $n$ elementos, con índices `start` y `end`, determinando el inicio y final de un subarreglo de A, y retorna indices al subarreglo máximo posible dentro de este subarreglo.*\n",
        "\n",
        "## Prueba del Teorema\n",
        "\n",
        "Usaremos inducción matemática para probar este teorema. Si esta declaración la denominamos P(n) para un arreglo de n elementos, entonces debemos probar que se cumple para los siguientes casos:\n",
        "\n",
        "1. $P(1)$. El caso base, cuando lo que recibe es un arreglo con un solo elemento. Como sabemos segun el código, cuando el subarreglo solo tiene un elemento, se retorna así nomas. Y trivialmente, sabemos que el subarreglo máximo de un arreglo de 1 elemento es el mismo elemento.\n",
        "\n",
        "2. Si $m< n$ y $P(m)$ es verdadero, entonces $P(n)$ es verdadero. Como sabemos, la función se llama a si mísma dos veces, con arreglos de tamaño $m=n/2.$ Si $P(m)$ es verdadero, entonces efectivamente tendremos los subarreglos máximos de cada lado. Luego llamamos a MaxSubArrayMid, el cual es correcto y retorna el subarreglo máximo que contiene al elemento del medio. Finalmente, se decide cual de estos tres subarreglos tiene máximo mayor; este es el que se retorna. Ya que todos los subarreglos máximos son correctos, este retorno es correcto tambien.\n",
        "\n",
        "Ya que ambos casos son correctos, el algoritmo es correcto."
      ],
      "metadata": {
        "id": "VaZaEN--1V6K"
      }
    },
    {
      "cell_type": "markdown",
      "source": [
        "#5. Tiempo de Ejecución\n",
        "\n",
        "###**Teorema(Tiempo de ejecución)** \n",
        "\n",
        "*El algoritmo **MaxSubArrayMid** tiene un tiempo de ejecución de $O(nlog_2n)$.*\n",
        "\n",
        "##Prueba del Teorema\n",
        "\n",
        "Digamos que $T(n)$ es el tiempo de ejecución de **MaxSubArray** para un arreglo de $n$ elementos. Sabemos que en casos generales, **MaxSubArray** se llama recursivamente dos veces con arreglos de $n/2$ elementos, y además que llama a la función **MaxSubArrayMid**. Ésta recorre al arreglo desde el medio hasta el principio y desde el medio hasta el final, iteración lineal que resulta en un tiempo de ejecución $O(n)$.\n",
        "Por lo tanto, podemos decir que:\n",
        "\n",
        "$T(n) = 2T(n/2) + O(n)$\n",
        "\n",
        "Para resolver esta recurrencia, usaremos el método maestro. Para esto, debemos reescribir la función de la siguiente manera e identificar los valores $a$, $b$ y $d$:\n",
        "\n",
        "$T(n) \\leq aT(n/b)+O(n^d)$\n",
        "\n",
        "$a = 2, b=2, d =1$\n",
        "\n",
        "El Teorema Maestro es el siguiente:\n",
        "\n",
        "![image](https://i.imgur.com/Fbati5a.png)\n",
        "\n",
        "Ya que $2 = 2^1$ es el caso uno, podemos asegurar que el tiempo de ejecución de **MaxSubArray** es $O(n^1logn)$\n",
        "\n"
      ],
      "metadata": {
        "id": "aXnB0Q7n_Lb4"
      }
    },
    {
      "cell_type": "markdown",
      "source": [
        "#6. Experimentos\n",
        "\n",
        "##6.1 Mejor y Peor Caso.\n",
        "\n",
        "Analizando el código, cuesta definir un mejor y peor caso. A modo de experimentación, analizaré que es lo que sucede cuando el arreglo de entrada está compuesto por puros unos (cuyo subarreglo máximo sería el arreglo entero) y cuando está compuesto por unos negativos (cualquier subarreglo de tamaño 1 sería un máximo.\n",
        "\n",
        "También experimentaré con un arreglo que alterne entre unos negativos y positivos.\n"
      ],
      "metadata": {
        "id": "X-O0Rpe5bx1W"
      }
    },
    {
      "cell_type": "code",
      "source": [
        "import matplotlib.pyplot as plt\n",
        "import datetime\n",
        "from timeit import repeat\n",
        "\n",
        "x=[]\n",
        "y=[];\n",
        "y2=[]\n",
        "y3=[]\n",
        "y4=[]\n",
        "\n",
        "for n in range(100,150):\n",
        "\n",
        "  a = random.sample(range(-100, 100), n) \n",
        "  t = repeat(setup=\"from __main__ import MaxSubArray\", stmt=f\"MaxSubArray({a},{0},{len(a)})\", repeat=1, number=10)\n",
        "\n",
        "  x.append(n)\n",
        "  y.append(t)\n",
        "  b = [1 for x in range(n)]\n",
        "  t = repeat(setup=\"from __main__ import MaxSubArray\", stmt=f\"MaxSubArray({b},{0},{len(b)})\", repeat=1, number=10)\n",
        "  y2.append(t)\n",
        "  c= [-1 for x in range(n)]\n",
        "  t = repeat(setup=\"from __main__ import MaxSubArray\", stmt=f\"MaxSubArray({c},{0},{len(c)})\", repeat=1, number=10)\n",
        "  y3.append(t)\n",
        "  d= [(-1)**x for x in range(n)]\n",
        "  t = repeat(setup=\"from __main__ import MaxSubArray\", stmt=f\"MaxSubArray({d},{0},{len(d)})\", repeat=1, number=10)\n",
        "  y4.append(t)\n",
        "\n",
        "plt.plot(x,y)\n",
        "plt.plot(x,y2)\n",
        "plt.plot(x,y3)\n",
        "plt.plot(x,y4)\n",
        "plt.legend([\"Caso aleatorio\", \"Arreglo de unos\", \"Arreglo de unos negativos\",\"Arreglo alternando\"])"
      ],
      "metadata": {
        "colab": {
          "base_uri": "https://localhost:8080/",
          "height": 283
        },
        "id": "I9z9cjJ8gkcd",
        "outputId": "64cb874b-923c-480f-ae5c-3c8d35620e64"
      },
      "execution_count": null,
      "outputs": [
        {
          "output_type": "execute_result",
          "data": {
            "text/plain": [
              "<matplotlib.legend.Legend at 0x7f631bf77d50>"
            ]
          },
          "metadata": {},
          "execution_count": 119
        },
        {
          "output_type": "display_data",
          "data": {
            "text/plain": [
              "<Figure size 432x288 with 1 Axes>"
            ],
            "image/png": "[encoded data removed]"
          },
          "metadata": {
            "needs_background": "light"
          }
        }
      ]
    },
    {
      "cell_type": "markdown",
      "source": [
        "Analizando el gráfico, podemos apreciar de que si bien todas las curvas son relativamente similares, el caso aleatorio se demora más que los otros casos. Por lo tanto, podemos sugerir que el mejor caso se encuentra en uno de los arreglos experimentales propuestos.\n",
        "\n",
        "Las mejoras de tiempo son bastantes pequeñas, eso si. Probablemente se deba a ahorros a la hora de sumar y comparar valores simples."
      ],
      "metadata": {
        "id": "bR9pOnsUm_iI"
      }
    },
    {
      "cell_type": "markdown",
      "source": [
        "##6.2 Kadane vs Recursión\n",
        "\n",
        "Definamos al algoritmo de Kadane como tal:"
      ],
      "metadata": {
        "id": "RjTgHx0Tq9Nh"
      }
    },
    {
      "cell_type": "code",
      "source": [
        "\n",
        "from sys import maxsize\n",
        "  \n",
        "\n",
        "def Kadane(a):\n",
        "    max = -maxsize - 1\n",
        "    temp_max = 0\n",
        "    start = 0\n",
        "    end = 0\n",
        "    s = 0\n",
        "    for i in range(0,len(a)):\n",
        "        temp_max += a[i]\n",
        "        if max < temp_max:\n",
        "            max = temp_max\n",
        "            start = s\n",
        "            end = i\n",
        "        if temp_max < 0:\n",
        "            temp_max = 0\n",
        "            s = i+1\n",
        "    return start, end, max\n",
        "  \n",
        "\n",
        "a = random.sample(range(-15, 20), 8)\n",
        "print(a)\n",
        "start, end, max = Kadane(a)\n",
        "print(a[start:end+1], max)"
      ],
      "metadata": {
        "colab": {
          "base_uri": "https://localhost:8080/"
        },
        "id": "jp94d47KrJlh",
        "outputId": "c209a0b9-36e5-4b33-f8e1-0ede8b5cf97e"
      },
      "execution_count": null,
      "outputs": [
        {
          "output_type": "stream",
          "name": "stdout",
          "text": [
            "[2, -13, -7, 1, 16, 3, 8, 12]\n",
            "[1, 16, 3, 8, 12] 40\n"
          ]
        }
      ]
    },
    {
      "cell_type": "markdown",
      "source": [
        "Ya que este algoritmo recorre el arreglo una sola vez, podemos asegurar con confianza que su tiempo de ejecución será de $O(n)$. A continuación mostraremos gráficamente la diferencia de tiempos de ejecución con la implementación recursiva."
      ],
      "metadata": {
        "id": "E4lbu9pb2ZJ5"
      }
    },
    {
      "cell_type": "code",
      "source": [
        "import matplotlib.pyplot as plt\n",
        "import datetime\n",
        "from timeit import repeat\n",
        "\n",
        "x=[]\n",
        "y1=[]\n",
        "y2=[]\n",
        "\n",
        "\n",
        "for n in range(5,100):\n",
        "\n",
        "  a = random.sample(range(-100, 100), n) \n",
        "  b = a.copy()\n",
        "  t = repeat(setup=\"from __main__ import MaxSubArray\", stmt=f\"MaxSubArray({a},{0},{len(a)})\", repeat=1, number=10)\n",
        "  x.append(n)\n",
        "  y1.append(t)\n",
        "  t = repeat(setup=\"from __main__ import Kadane\", stmt=f\"Kadane({b})\", repeat=1, number=10)\n",
        "  y2.append(t)\n",
        "\n",
        "\n",
        "plt.plot(x,y1)\n",
        "plt.plot(x,y2)\n",
        "plt.legend([\"Algoritmo recursivo\", \"Algoritmo Kadane\"])"
      ],
      "metadata": {
        "colab": {
          "base_uri": "https://localhost:8080/",
          "height": 283
        },
        "id": "J7mN-I-y3AeY",
        "outputId": "904e4180-b79a-4748-ad9c-31c8dd74dbfb"
      },
      "execution_count": null,
      "outputs": [
        {
          "output_type": "execute_result",
          "data": {
            "text/plain": [
              "<matplotlib.legend.Legend at 0x7f631bbc11d0>"
            ]
          },
          "metadata": {},
          "execution_count": 131
        },
        {
          "output_type": "display_data",
          "data": {
            "text/plain": [
              "<Figure size 432x288 with 1 Axes>"
            ],
            "image/png": "[encoded data removed]"
          },
          "metadata": {
            "needs_background": "light"
          }
        }
      ]
    },
    {
      "cell_type": "markdown",
      "source": [
        "Como se puede ver, Kadane tiene un tiempo minúsculo de ejecución comparado con el algoritmo recursivo. Si bien algoritmos con paradigma divide y vencerás pueden ser mucho más rapidos comparados con algoritmos lineales para problemas de ordenamiento, este no siempre es el caso cuando el problema es de optimización."
      ],
      "metadata": {
        "id": "0nnVmV0Y3m86"
      }
    }
  ]
}