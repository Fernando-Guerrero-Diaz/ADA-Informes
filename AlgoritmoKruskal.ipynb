{
  "nbformat": 4,
  "nbformat_minor": 0,
  "metadata": {
    "colab": {
      "provenance": [],
      "authorship_tag": "ABX9TyOqgKDGvSAAofz27DDV2KNp",
      "include_colab_link": true
    },
    "kernelspec": {
      "name": "python3",
      "display_name": "Python 3"
    },
    "language_info": {
      "name": "python"
    }
  },
  "cells": [
    {
      "cell_type": "markdown",
      "metadata": {
        "id": "view-in-github",
        "colab_type": "text"
      },
      "source": [
        "<a href=\"https://colab.research.google.com/github/Fernando-Guerrero-Diaz/ADA-Informes/blob/main/AlgoritmoKruskal.ipynb\" target=\"_parent\"><img src=\"https://colab.research.google.com/assets/colab-badge.svg\" alt=\"Open In Colab\"/></a>"
      ]
    },
    {
      "cell_type": "markdown",
      "source": [
        "#1. Problema: Árbol Recubridor Mínimo\n",
        "\n",
        "**Entrada:** Grafo no dirigido $G = (V,E)$ donde cada arco $e$ tiene un costo $c_e$.\n",
        "\n",
        "**Salida:** Árbol recubridor Mínimo  $T$ de $G$, que no genere ciclos y que minimice el costo entre los nodos.\n",
        "\n",
        "El problema del Árbol Recubridor Mínimo es un problema de optimización, en el cual queremos conectar un conjunto de objetos de la forma más economica posible. \n",
        "\n",
        "El algoritmo de Kruskal es un algoritmo voraz que resuelve el problema de forma fácil y sencilla, la cual selecciona los arcos con menor costo y los agrega al árbol. A continuación se presenta una implementación de este algoritmo."
      ],
      "metadata": {
        "id": "WVHDwLsgkTR6"
      }
    },
    {
      "cell_type": "markdown",
      "source": [
        "#2. Algoritmo de Kruskal\n",
        "\n",
        "##2.1 Código"
      ],
      "metadata": {
        "id": "AtMBzvsGlwGI"
      }
    },
    {
      "cell_type": "code",
      "source": [
        "import random\n",
        "import networkx as nx\n",
        "import matplotlib.pyplot as plt\n",
        "\n",
        "def Partition(array, start, end):\n",
        "  if start>=end: return start\n",
        "  pivot=array[end-1]\n",
        "  i,j = start, start\n",
        "  while j < end-1:\n",
        "\n",
        "    if array[j][2]>= pivot[2]:\n",
        "      j=j+1\n",
        "    else:\n",
        "      aux = array[j]\n",
        "      array[j]=array[i]\n",
        "      array[i]= aux\n",
        "      i=i+1\n",
        "      j=j+1\n",
        "  array[end-1]=array[i]\n",
        "  array[i]=pivot\n",
        "  return i\n",
        "\n",
        "def QuickSort(array,start,end):\n",
        "  if start+1<end:\n",
        "    pivot = Partition(array,start,end)\n",
        "    QuickSort(array,start,pivot)\n",
        "    QuickSort(array,pivot+1,end)\n",
        "\n",
        "def graph_instance_creator(V):\n",
        "  graph = []\n",
        "  for i in range(V):\n",
        "    for j in range(i+1, V):\n",
        "      graph.append([i, j, random.randint(1, 20)])\n",
        "  \n",
        "  return graph\n",
        "\n",
        "\n",
        "def graph_to_nxgraph(graph):\n",
        "  nxgraph = nx.Graph()\n",
        "  for i in graph:\n",
        "    nxgraph.add_edge(i[0], i[1], weight=i[2])\n",
        "  return nxgraph\n",
        "\n",
        "def getNodos(graph):\n",
        "  nodos ={}\n",
        "  for i in graph:\n",
        "    nodos[i[0]] = i[0];\n",
        "    nodos[i[1]] = i[1];\n",
        "  return nodos\n",
        "\n",
        "def IsAcyclic(graph, x):\n",
        "  nodos = getNodos(graph)\n",
        "  stack =[]\n",
        "  arcos = [([0]*x) for i in range(x)]\n",
        "  for n in nodos: \n",
        "    nodos[n]=\"no descubierto\"\n",
        "  for n in graph: \n",
        "    arcos[n[0]][n[1]]=\"disponible\"\n",
        "    arcos[n[1]][n[0]]=\"disponible\"\n",
        "  for n in nodos.keys():\n",
        "    stack.append(int(n))\n",
        "    break\n",
        "  while len(stack)>0:\n",
        "    n=stack.pop()\n",
        "    if nodos[n]==\"no descubierto\": \n",
        "       nodos[n]=\"descubierto\"\n",
        "       for i in range(x):\n",
        "          if arcos[n][i] == \"disponible\":\n",
        "             arcos[n][i] = \"usado\"\n",
        "             arcos[i][n] = \"usado\"\n",
        "             stack.append(i)\n",
        "    elif nodos[n] == \"descubierto\":\n",
        "      return False\n",
        "  return True\n",
        "\n",
        "\n",
        "\n",
        "def Kruskal(graph,visualize=False,verbose=False):\n",
        "  if visualize:\n",
        "    G = graph_to_nxgraph(graph)\n",
        "    labels = nx.get_edge_attributes(G,'weight')\n",
        "    pos=nx.circular_layout(G)\n",
        "    nx.draw_networkx_edge_labels(G,pos,edge_labels=labels,font_size=10)\n",
        "    nx.draw(G,pos, with_labels=True, node_size=800, font_color=\"white\", font_size=12, font_weight=\"normal\", width  =1.0, edge_color =\"lightgray\")\n",
        "  x = len(getNodos(graph))\n",
        "  QuickSort(graph,0,len(graph))\n",
        "  if verbose: print(\"Ordenando los arcos por peso con QuickSort\")\n",
        "  new = []\n",
        "  for n in graph:\n",
        "    new.append(n)\n",
        "    if (IsAcyclic(new,x)): \n",
        "      if verbose: print(\"Agregando el arco entre \", n[0], \" y \", n[1])\n",
        "    else:\n",
        "      new.pop()\n",
        "      if verbose: print(\"No se agrega el arco entre \", n[0], \" y \", n[1], \", forma un ciclo\")\n",
        "    if visualize:\n",
        "      T = graph_to_nxgraph(new)\n",
        "      labels = nx.get_edge_attributes(T,'weight')\n",
        "      nx.draw_networkx_edge_labels(T,pos,edge_labels=labels,font_size=14)\n",
        "      nx.draw(T,pos, with_labels=True, node_size=800, font_color=\"white\", font_size=12, font_weight=\"normal\", width  =1.0, edge_color =\"green\")\n",
        "\n",
        "  return new\n",
        "\n",
        "\n",
        "graph = graph_instance_creator(6)\n",
        "\n",
        "\n",
        "\n",
        "mst = Kruskal(graph,True)\n",
        "\n",
        "\n",
        "\n",
        "\n",
        "\n"
      ],
      "metadata": {
        "colab": {
          "base_uri": "https://localhost:8080/",
          "height": 248
        },
        "id": "XirxmTqLl2tm",
        "outputId": "58d0b787-5b85-499a-f1ff-039c263c4f9f"
      },
      "execution_count": 71,
      "outputs": [
        {
          "output_type": "display_data",
          "data": {
            "text/plain": [
              "<Figure size 432x288 with 1 Axes>"
            ],
            "image/png": "[encoded data removed]"
          },
          "metadata": {}
        }
      ]
    },
    {
      "cell_type": "markdown",
      "source": [
        "##2.2 Descripción del Algoritmo\n",
        "\n",
        "El algoritmo recibe al grafo `G`, el cual tiene un arreglo `V` de nodos (vertices) y un arreglo `E` de arcos (edges).\n",
        "\n",
        "1. Se define al árbol `T` vacío.\n",
        "\n",
        "2. Se ordena el arreglo `E` de menor a mayor, usando un algoritmo de ordenamiento como **QuickSort**.\n",
        "\n",
        "3. Se recorre el arreglo ordenado `E` desde el principio. Se verifica si agregar el arco `E[i]` no genera un ciclo en el arbol `T`, en cuyo caso se agrega a `T`.\n",
        "\n",
        "4. Una vez recorrido el arreglo `E` se retorna `T`.\n",
        "\n",
        "Para verificar si el árbol T es acíclico, se realizará la siguiente operación.\n",
        "\n",
        "1. Se crea un diccionario vacío para los nodos, una matriz para los arcos y un stack vacío para realizar **DepthFirstSearch** en `T`.\n",
        "\n",
        "2. Se elige un nodo y se le asigna como visitado en el diccionario.\n",
        "\n",
        "3. Se Agregan los nodos alcanzables desde el nodo seleccionado (usando arcos disponibles) al stack y se marcan los arcos como usados.\n",
        "\n",
        "4. Se repiten los 2 pasos anteriores con el primer nodo del stack. Si el nodo ya fue visitado, entonces se retorna `False`, ya que esto significa que hay un ciclo.\n",
        "\n",
        "5. Si se explora el arbol sin encontrar un nodo previamente visitado, entonces retorna `True`.\n",
        "\n",
        "##2.3 Ejecución paso a paso."
      ],
      "metadata": {
        "id": "AxIwsE0ql3Zv"
      }
    },
    {
      "cell_type": "code",
      "source": [
        "graph = graph_instance_creator(5)\n",
        "\n",
        "mst = Kruskal(graph,True,True)"
      ],
      "metadata": {
        "colab": {
          "base_uri": "https://localhost:8080/",
          "height": 451
        },
        "id": "1SI-mpep-tqs",
        "outputId": "578f8484-e4b1-4f2e-98ed-da156ca90ded"
      },
      "execution_count": 75,
      "outputs": [
        {
          "output_type": "stream",
          "name": "stdout",
          "text": [
            "Ordenando los arcos por peso con QuickSort\n",
            "Agregando el arco entre  3  y  4\n",
            "Agregando el arco entre  0  y  2\n",
            "Agregando el arco entre  2  y  4\n",
            "Agregando el arco entre  1  y  4\n",
            "No se agrega el arco entre  2  y  3 , forma un ciclo\n",
            "No se agrega el arco entre  0  y  1 , forma un ciclo\n",
            "No se agrega el arco entre  1  y  2 , forma un ciclo\n",
            "No se agrega el arco entre  0  y  4 , forma un ciclo\n",
            "No se agrega el arco entre  1  y  3 , forma un ciclo\n",
            "No se agrega el arco entre  0  y  3 , forma un ciclo\n"
          ]
        },
        {
          "output_type": "display_data",
          "data": {
            "text/plain": [
              "<Figure size 432x288 with 1 Axes>"
            ],
            "image/png": "[encoded data removed]"
          },
          "metadata": {}
        }
      ]
    },
    {
      "cell_type": "markdown",
      "source": [
        "#3.Correctitud\n",
        "\n",
        "**Teorema(correctitud)**: *El algoritmo de Kruskal recibe un grafo no dirigido de nodos conectados por arcos de distinto peso, y retorna el árbol recubridor mínimo que minimiza el costo total de los arcos.*\n",
        "\n",
        "Digamos que $G$ es nuestro grafo conexo no dirigido inicial, y que $T$ es el arbol recubridor generado por el algoritmo de Kruskal. En base a la implementación, sabemos de que $T$ no posee ciclos y que es conexo ya que siempre agrega el primer arco que une dos componentes de $G$.\n",
        "\n",
        "Digamos ahora que $T_1$ es el árbol recubridor mínimo de $G$ que comparte la mayor cantidad de arcos con $T$. Si $T_1 = T$, entonces $T$ es el árbol recubridor mínimo que estamos buscando. Si no es así, entonces consideremos al primer arco $i$ que se encuentra en $T$ y no en $T_1$. Sean $C_1$ y $C_2$ los componentes conectados por $i$. Ya que $T_1$ es un árbol, $T_1 + e$ tendrá un ciclo, y en este ciclo existirá el arco $f$ que también conecta a los componentes $C_1$ y $C_2$. Por lo tanto, podemos decir que $T_1 + e - f$ es un árbol recubridor de $G$; llamémoslo $T_2$. \n",
        "\n",
        "Ya que $e$ fue elegido por nuestro algoritmo antes que $f$, el peso de $e$ es al menos igual que el peso de $f$, y dado que $T_1$ es un árbol recubridor mínimo, los pesos de estos dos arcos deben ser iguales. Por lo tanto, $T_2$ es un árbol recubridor mínimo con más aristas en común con $T$ que $T_1$, y como esto contradice lo que aseguramos anteriormente, se prueba por contradicción que $T$ tiene que ser un árbol mínimo recubridor.\n",
        "\n",
        "#4. Tiempo de Ejecución\n",
        "\n",
        "**Teorema(Tiempo de ejecución):** \n",
        "*El algoritmo **Kruskal** tiene un tiempo de ejecución de $O(nlogn)$, donde $n$ es el número de nodos en el grafo.*"
      ],
      "metadata": {
        "id": "Zw8322ehpFq4"
      }
    },
    {
      "cell_type": "markdown",
      "source": [
        "#5. Experimentos\n",
        "\n",
        "##5.1 Crecimiento del tiempo de ejecución\n",
        "\n",
        "A continuación se presenta un gráfico con el tiempo que demora el algorítmo de kruskal a medida que aumentamos el número de nodos."
      ],
      "metadata": {
        "id": "59o4Q4vW9IM6"
      }
    },
    {
      "cell_type": "code",
      "source": [
        "import matplotlib.pyplot as plt\n",
        "import datetime\n",
        "from timeit import repeat\n",
        "\n",
        "x=[] \n",
        "y1=[]\n",
        "\n",
        "\n",
        "for n in range(5,20):\n",
        "\n",
        "  graph = graph_instance_creator(n)\n",
        "\n",
        "  t1 = repeat(setup=\"from __main__ import Kruskal\", stmt=f\"Kruskal({graph})\", repeat=1, number=10)\n",
        "\n",
        "  x.append(n)\n",
        "\n",
        "  y1.append(t1)\n",
        "\n",
        "\n",
        "\n",
        "plt.plot(x,y1)\n",
        "\n",
        "plt.legend([\"Kruskal\"])\n"
      ],
      "metadata": {
        "colab": {
          "base_uri": "https://localhost:8080/",
          "height": 283
        },
        "id": "K40BF2sO8V_5",
        "outputId": "57f04c1f-8286-4a48-e6ff-c528b8a0f4fb"
      },
      "execution_count": 74,
      "outputs": [
        {
          "output_type": "execute_result",
          "data": {
            "text/plain": [
              "<matplotlib.legend.Legend at 0x7f733770a910>"
            ]
          },
          "metadata": {},
          "execution_count": 74
        },
        {
          "output_type": "display_data",
          "data": {
            "text/plain": [
              "<Figure size 432x288 with 1 Axes>"
            ],
            "image/png": "[encoded data removed]"
          },
          "metadata": {
            "needs_background": "light"
          }
        }
      ]
    },
    {
      "cell_type": "markdown",
      "source": [
        "Como se puede apreciar, se observa un crecimiento casi cuadrático, lo cual no concuerda con el tiempo de ejecución esperado. Pero esto se debe a que `graph_instance_creator` se encarga de conectar absolutamente todos los nodos, por lo cual no se puede considerar como un caso promedio. En general, los grafos no suelen verse tan interconectados."
      ],
      "metadata": {
        "id": "ahfG7dhk9364"
      }
    }
  ]
}