{
  "nbformat": 4,
  "nbformat_minor": 0,
  "metadata": {
    "colab": {
      "provenance": [],
      "authorship_tag": "ABX9TyOYB6ZK32JGQI4K5I1qwC4V",
      "include_colab_link": true
    },
    "kernelspec": {
      "name": "python3",
      "display_name": "Python 3"
    },
    "language_info": {
      "name": "python"
    }
  },
  "cells": [
    {
      "cell_type": "markdown",
      "metadata": {
        "id": "view-in-github",
        "colab_type": "text"
      },
      "source": [
        "<a href=\"https://colab.research.google.com/github/Fernando-Guerrero-Diaz/ADA-Informes/blob/main/QuickSort.ipynb\" target=\"_parent\"><img src=\"https://colab.research.google.com/assets/colab-badge.svg\" alt=\"Open In Colab\"/></a>"
      ]
    },
    {
      "cell_type": "markdown",
      "source": [
        "# 1. Problema de Ordenamiento\n",
        "**Entrada:** arreglo con n elementos numéricos. $[a_1, a_2, ... a_n]$\n",
        "\n",
        "**Salida:** arreglo con los mismos elementos ordenados de menor a mayor. $[a_1', a_2', ... a_n']$ tal que $a_i'\\leq a_{i+1}'$ para todo $ 0 \\leq i < n$\n",
        "\n",
        "Comp siempre estamos buscando algoritmos que minimizen el tiempo de ejecución necesario para resolver el problema de ordenar un arreglo, analizar el algoritmo recursivo **QuickSort** es bastante útil ya que como lo dice su nombre, es bastante rápido al momento de ordenar el arreglo.\n",
        "\n",
        "La función por si misma no hace más que llamar a la función **Partition**, la verdadera estrella del show, y luego se llama recursivamente, por lo que examinaremos a **Partition** primero."
      ],
      "metadata": {
        "id": "r1kILh2VOLNE"
      }
    },
    {
      "cell_type": "markdown",
      "source": [
        "#2.Partition\n",
        "\n",
        "A continuación se incluye una implementación de **Partition**\n",
        "\n",
        "#2.1 Código"
      ],
      "metadata": {
        "id": "E4KLYhKPTg7b"
      }
    },
    {
      "cell_type": "code",
      "source": [
        "import random\n",
        "\n",
        "\n",
        "def MedianFromSample(array,start,end):\n",
        "  sample = random.sample(range(start,end),3)\n",
        "  global comparaciones\n",
        "  if array[sample[0]]>= array[sample[1]] and array[sample[0]]<= array[sample[2]]:\n",
        "    comparaciones += 2\n",
        "    return sample[0]\n",
        "  if array[sample[0]]>= array[sample[2]] and array[sample[0]]<= array[sample[1]]:\n",
        "    comparaciones += 2\n",
        "    return sample[0]\n",
        "  if array[sample[1]]>= array[sample[0]] and array[sample[1]]<= array[sample[2]]:\n",
        "    comparaciones += 2\n",
        "    return sample[1]\n",
        "  if array[sample[1]]>= array[sample[2]] and array[sample[1]]<= array[sample[0]]:\n",
        "    comparaciones += 2\n",
        "    return sample[1]\n",
        "  else:\n",
        "    return sample[2]\n",
        "\n",
        "\n",
        "\n",
        "def Partition(array, start, end, method):\n",
        "  if start>=end: return start\n",
        "  global comparaciones\n",
        "  if method==0:\n",
        "    pivot = array[start]\n",
        "    array[start]= array[end-1]\n",
        "    array[end-1]=pivot\n",
        "  elif method ==1 and end-start>=3:\n",
        "    median = MedianFromSample(array,start,end)\n",
        "    pivot = array[median]\n",
        "    array[median] = array[end-1]\n",
        "    array[end-1]=pivot\n",
        "  else:\n",
        "    pivot=array[end-1]\n",
        "  i,j = start, start\n",
        "  while j < end-1:\n",
        "    comparaciones +=1\n",
        "    if array[j] >= pivot:\n",
        "      j=j+1\n",
        "    else:\n",
        "      aux = array[j]\n",
        "      array[j]=array[i]\n",
        "      array[i]= aux\n",
        "      i=i+1\n",
        "      j=j+1\n",
        "  array[end-1]=array[i]\n",
        "  array[i]=pivot\n",
        "  return i\n",
        "\n",
        "comparaciones = 0\n",
        "print(\"método con pivote inicial\")\n",
        "a = random.sample(range(0, 40), 10)\n",
        "print(a)\n",
        "s = Partition(a,0,len(a),0)\n",
        "print(a)\n",
        "print(\"pivote\", a[s], \"en posición\", s,\",\",comparaciones,\"comparaciones\\n\")\n",
        "\n",
        "comparaciones = 0\n",
        "print(\"método con pivote mediana aleatoria\")\n",
        "a = random.sample(range(0, 40), 10)\n",
        "print(a)\n",
        "s = Partition(a,0,len(a),1)\n",
        "print(a)\n",
        "print(\"pivote\", a[s], \"en posición\", s,\",\",comparaciones,\"comparaciones\\n\")\n",
        "\n",
        "comparaciones = 0\n",
        "print(\"método con pivote final\")\n",
        "a = random.sample(range(0,40), 10)\n",
        "print(a)\n",
        "s = Partition(a,0,len(a),2)\n",
        "print(a)\n",
        "print(\"pivote\", a[s], \"en posición\", s,\",\",comparaciones,\"comparaciones\")"
      ],
      "metadata": {
        "id": "3OLErPjFXMVr",
        "colab": {
          "base_uri": "https://localhost:8080/"
        },
        "outputId": "c2205b36-043e-4250-b91e-d097b8f13760"
      },
      "execution_count": 35,
      "outputs": [
        {
          "output_type": "stream",
          "name": "stdout",
          "text": [
            "método con pivote inicial\n",
            "[39, 17, 9, 2, 3, 18, 21, 29, 13, 11]\n",
            "[11, 17, 9, 2, 3, 18, 21, 29, 13, 39]\n",
            "pivote 39 en posición 9 , 9 comparaciones\n",
            "\n",
            "método con pivote mediana aleatoria\n",
            "[34, 10, 18, 39, 9, 36, 30, 29, 20, 11]\n",
            "[10, 18, 9, 11, 20, 29, 30, 39, 34, 36]\n",
            "pivote 29 en posición 5 , 9 comparaciones\n",
            "\n",
            "método con pivote final\n",
            "[24, 16, 6, 9, 31, 37, 39, 7, 18, 12]\n",
            "[6, 9, 7, 12, 31, 37, 39, 24, 18, 16]\n",
            "pivote 12 en posición 3 , 9 comparaciones\n"
          ]
        }
      ]
    },
    {
      "cell_type": "markdown",
      "source": [
        "#2.2 Descripción del algoritmo\n",
        "\n",
        "El algoritmo recibe como entrada a un arreglo `array` y a dos índices `start` y `end`, que marcan el inicio y final del subarreglo que queremos particionar. También va a recibir una variable `method` que indique cómo se seleccione al elemento pivote.\n",
        "\n",
        "1. En primer lugar, si el subarreglo es vacío o de un elemento, no se hace nada. Se retorna `start` como si fuera pivote.\n",
        "2. Según el valor de `method`, elegimos un valor pivote `pivot`.\n",
        "  \n",
        "  -Si `method == 0`, elegimos al primer elemento del arreglo como pivote, y lo intercambiamos con el elemento del final `(array[end-1])`.\n",
        "\n",
        "  -Si `method == 1`, elegimos tres valores del arreglo al azar, escogemos a la mediana de estos como pivote, y lo intercambiamos con el elemento del final, en la posición `end-1`. Si no hay tres valores para escoger, se pasa al siguiente caso. (note que en la función que elige mediana de una muestra aleatoria, se realizan comparaciones extras.)\n",
        "\n",
        "  -En todo otro caso, elegimos al ultimo elemento del arreglo como pivote, manteniendo su posición en `end-1`.\n",
        "\n",
        "3. Definimos a dos índices, `i` y `j` con valores `start`, que definirán los subarreglos de elementos menores y mayores al pivote. Empezamos a iterar desde el inicio del subarreglo, considerando `j` como nuestro iterador.\n",
        "4. Comparamos `array[j]` con `pivot`. Si es mayor, aumentamos el valor de `j` por 1, manteniendo este elemento en la zona de valores mayores a pivote. Si es menor, intercambiamos el elemento en `j` por el que está en `i` y aumentamos tanto `i` y `j` por 1, dejando pues al elemento comparado en la zona de valores menores.\n",
        "5. Una vez `j` llega al pivote en `end-1`., se concluye. remplazando al elemento en el pivote por el que está en `i`.\n",
        "6. Quedamos con el arreglo particionado. Retornamos el valor del índice donde quedó el pivote, osea, `i`."
      ],
      "metadata": {
        "id": "rjBDpeRtXNTb"
      }
    },
    {
      "cell_type": "markdown",
      "source": [
        "##2.3 Ejemplo\n",
        "\n",
        "Para explicar el funcionamiento, aqui se presenta un ejemplo de la función **Partition**, usando el método con pivote a partir de la mediana de 3 elementos.\n",
        "\n",
        "Digamos que tenemos al siguiente arreglo como entrada.\n",
        "$X=[3, 9, 5, 0, 1, 7, 6]$\n",
        "\n",
        "Primero, llamaremos a la función MedianFromSample. Esta va a escoger tres elementos aleatorios y retornará la mediana de estos.\n",
        "\n",
        "$Sample = [5,0,7]; Median = 5$\n",
        "\n",
        "Este $5$ será nuestro pivote y lo pondremos al final, intercambiando elementos de posición.\n",
        "\n",
        "$X=[3, 9, 6, 0, 1, 7, 5]$\n",
        "\n",
        "Ya que estamos analizando todo el arreglo, $i$ y $j$ parten desde $0$.\n",
        "\n",
        "$X[j] = 3 < 5$, por lo tanto se intercambian $X[i]$ y $X[j]$, pero como por ahora son iguales, no hay cambio. $i$ y $j$ aumentan por $1$.\n",
        "\n",
        "$X=[3, 9, 6, 0, 1, 7, 5]; i=1,j=1; $\n",
        "\n",
        "$X[j] = 9 > 5$, solo aumenta $j$.\n",
        "\n",
        "$X=[3, 9, 6, 0, 1, 7, 5]; i=1,j=2; $\n",
        "\n",
        "$X[j] = 6 > 5$, nuevamente solo aumenta $j$.\n",
        "\n",
        "$X=[3, 9, 6, 0, 1, 7, 5]; i=1,j=3; $\n",
        "\n",
        "$X[j] = 0 < 5$, se intercambian $X[i]$ y $X[j]$, en este caso, $9$ y $0$. $i$ y $j$ aumentan.\n",
        "\n",
        "$X=[3, 0, 6, 9, 1, 7, 5]; i=2,j=4; $\n",
        "\n",
        "$X[j] = 1 < 5$, se intercambian $X[i]$ y $X[j]$, $6$ y $1$ respectivamente. $i$ y $j$ aumentan.\n",
        "\n",
        "$X=[3, 0, 1, 9, 6, 7, 5]; i=3,j=5; $\n",
        "\n",
        "$X[j] = 7 > 5$, solo aumenta $j$.\n",
        "\n",
        "$X=[3, 0, 1, 9, 6, 7, 5]; i=3,j=6; $\n",
        "\n",
        "Ya que $j = len(X) -1$ hemos llegado al pivote, por lo que intercambiamos a éste con el que se encuentra en $X[i]$\n",
        "\n",
        "$X=[3, 0, 1, 5, 6, 7, 9]; i=3,j=6; $\n",
        "\n",
        "Y finalmente retornamos la posición donde quedó el pivote, que es $i = 3$."
      ],
      "metadata": {
        "id": "uHl7NFJxTCyJ"
      }
    },
    {
      "cell_type": "markdown",
      "source": [
        "#3. QuickSort\n",
        "\n",
        "Ya definido **Partition**, podemos implementar a **QuickSort**.\n",
        "\n",
        "##3.1 Código"
      ],
      "metadata": {
        "id": "N8cJsEpLameY"
      }
    },
    {
      "cell_type": "code",
      "source": [
        "def QuickSort(array,start,end,method,verbose=False):\n",
        "  if start+1<end:\n",
        "    if verbose: print(\"Arreglo a particionar:\", array[start:end])\n",
        "    pivot = Partition(array,start,end,method)\n",
        "    if verbose: print(\"Arreglo particionado:\", array[start:end], \", pivote:\", array[pivot], \"en posición\", pivot)\n",
        "    if verbose: print(\"Llamada recursiva de Quicksort para subarreglo izquierdo\", array[start:pivot])\n",
        "    QuickSort(array,start,pivot,method, verbose)\n",
        "    if verbose: print(\"Llamada recursiva de Quicksort para subarreglo derecho\", array[pivot+1:end])\n",
        "    QuickSort(array,pivot+1,end,method, verbose)\n",
        "  else:\n",
        "    if verbose: print(\"Llamando a QuickSort con arreglo vacío o unitario.\")\n",
        "\n",
        "comparaciones = 0\n",
        "a = random.sample(range(0, 40), 10)\n",
        "print(a)\n",
        "QuickSort(a,0,len(a),1,False)\n",
        "print(a)\n",
        "print(\"Comparaciones:\", comparaciones)"
      ],
      "metadata": {
        "colab": {
          "base_uri": "https://localhost:8080/"
        },
        "id": "m_iBIyYobeCS",
        "outputId": "80760d9a-6057-4ff4-bc4b-5d9f5be1f690"
      },
      "execution_count": 32,
      "outputs": [
        {
          "output_type": "stream",
          "name": "stdout",
          "text": [
            "[36, 11, 10, 33, 26, 20, 15, 27, 29, 8]\n",
            "[8, 10, 11, 15, 20, 26, 27, 29, 33, 36]\n",
            "Comparaciones: 25\n"
          ]
        }
      ]
    },
    {
      "cell_type": "markdown",
      "source": [
        "##3.2 Descripción del algoritmo\n",
        "\n",
        "El algoritmo **QuickSort** recibe como entrada al arreglo `array` junto a 2 índices que indican inicio y final del subarreglo a ordenar, `start` y `end`. También recibe a variable `method`, la cual se usa al llamar a **Partition** para definir como elige pivote, y también una variable `verbose` que permite imprimir en pantalla el funcionamiento del algoritmo.\n",
        "\n",
        "1. Primero, se chequea que el subarreglo definido por `start` y `end` tenga más de 1 elemento. Si este no es el caso, entonces no hace nada. (no hay retorno).\n",
        "2. Se llama **Partition**, pasándole todos los parametros necesarios y guardando el pivote que retorna en `pivot`.\n",
        "3. Se llama recursivamente a **QuickSort** para el subarreglo a la izquierda del pivote, es decir, `array[start:pivot]`.\n",
        "4. Finalmente, se llama recursivamente a **QuickSort** para el subarreglo a la derecha,`array[pivot+1:end]`."
      ],
      "metadata": {
        "id": "jxhyGY68ioOc"
      }
    },
    {
      "cell_type": "markdown",
      "source": [
        "##3.3 Ejemplo\n",
        "A modo de ejemplo, digamos que queremos ordenar al siguiente arreglo con **QuickSort**, usando el método de **Partition** que elige pivote al final.\n",
        "\n",
        "$A = [6, 2, 1, 5, 3, 4]$\n",
        "\n",
        "Tomando a $4$ como pivote, **Partition** dejará al arreglo de la siguiente forma.\n",
        "\n",
        "$A = [2, 1, 3, 4, 6, 5]$\n",
        "\n",
        "Luego, se llamará recursivamente a **QuickSort** con el subarreglo que está a la izquierda de pivote y el que está a la derecha:\n",
        "\n",
        "$B_1 = [2,1,3] ; B_2 = [6,5]$\n",
        "\n",
        "Luego, se Particiona. Para $B_1$, el pivote será $3$, el cual es mayor que el resto por lo que el arreglo queda igual.  Para $B_2$, el pivote es $5$, y cambia de lugar con $6$.\n",
        "\n",
        "$B1=[2,1,3];B2=[5,6]$\n",
        "\n",
        "(Luego de esto, el arreglo original queda así: $A = [2, 1, 3, 4, 5, 6]$)\n",
        "\n",
        "Se llamará de nuevo a **QuickSort** con los subarreglos adyacentes a pivotes. Note que como los pivotes quedaron en extremos, algunos arreglos laterales quedaron vacíos.\n",
        "\n",
        "$C_1 = [2,1], C_2 = [ ], C_3 = [ ], C_4 = [6]$\n",
        "\n",
        "Cuando el arreglo es vacío o solo de un elemento, **QuickSort** no hace nada. Solo $C_1$ se particiona, con pivote $1$. $1$ y $2$ intercambian de lugar.\n",
        "\n",
        "$C_1= [1,2], (A = [1,2, 3, 4, 6, 5])$\n",
        "\n",
        "Finalmente se vuelve a llamar a Quicksort, pero como los subarreglos con lo que lo llama son de uno o cero elementos, no realiza nada.\n",
        "\n",
        "Finalmente quedamos con el arreglo ordenado de menor a mayor.\n",
        "\n",
        "$A = [2, 1, 3, 4, 6, 5]$\n"
      ],
      "metadata": {
        "id": "CTw8kERnmcrU"
      }
    },
    {
      "cell_type": "markdown",
      "source": [
        "##3.4 Ejecución paso a paso (`verbose=True`)\n",
        "\n",
        "A continuación se expone como funciona **QuickSort** paso a paso usando la variable `verbose`."
      ],
      "metadata": {
        "id": "EsVtmpvlwQLd"
      }
    },
    {
      "cell_type": "code",
      "source": [
        "comparaciones = 0\n",
        "a = random.sample(range(0, 15), 7)\n",
        "print(a)\n",
        "QuickSort(a,0,len(a),1,True)\n",
        "print(a)\n",
        "print(\"Comparaciones:\", comparaciones)"
      ],
      "metadata": {
        "colab": {
          "base_uri": "https://localhost:8080/"
        },
        "id": "1i8_aqhMwdOy",
        "outputId": "21359a13-83ec-4be4-eb1d-7c5389c59b55"
      },
      "execution_count": null,
      "outputs": [
        {
          "output_type": "stream",
          "name": "stdout",
          "text": [
            "[3, 1, 4, 9, 2, 5, 14]\n",
            "Arreglo a particionar: [3, 1, 4, 9, 2, 5, 14]\n",
            "Arreglo particionado: [3, 1, 4, 2, 5, 14, 9] , pivote: 5 en posición 4\n",
            "Llamada recursiva de Quicksort para subarreglo izquierdo [3, 1, 4, 2]\n",
            "Arreglo a particionar: [3, 1, 4, 2]\n",
            "Arreglo particionado: [1, 2, 4, 3] , pivote: 2 en posición 1\n",
            "Llamada recursiva de Quicksort para subarreglo izquierdo [1]\n",
            "Llamando a QuickSort con arreglo vacío o unitario.\n",
            "Llamada recursiva de Quicksort para subarreglo derecho [4, 3]\n",
            "Arreglo a particionar: [4, 3]\n",
            "Arreglo particionado: [3, 4] , pivote: 3 en posición 2\n",
            "Llamada recursiva de Quicksort para subarreglo izquierdo []\n",
            "Llamando a QuickSort con arreglo vacío o unitario.\n",
            "Llamada recursiva de Quicksort para subarreglo derecho [4]\n",
            "Llamando a QuickSort con arreglo vacío o unitario.\n",
            "Llamada recursiva de Quicksort para subarreglo derecho [14, 9]\n",
            "Arreglo a particionar: [14, 9]\n",
            "Arreglo particionado: [9, 14] , pivote: 9 en posición 5\n",
            "Llamada recursiva de Quicksort para subarreglo izquierdo []\n",
            "Llamando a QuickSort con arreglo vacío o unitario.\n",
            "Llamada recursiva de Quicksort para subarreglo derecho [14]\n",
            "Llamando a QuickSort con arreglo vacío o unitario.\n",
            "[1, 2, 3, 4, 5, 9, 14]\n",
            "Comparaciones: 11\n"
          ]
        }
      ]
    },
    {
      "cell_type": "markdown",
      "source": [
        "#4. Correctitud\n",
        "Primero, debemos probar la correctitud de **Partition**, la función que más trabajo hace a la hora de ordenar.\n",
        "\n",
        "##4.1 Correctitud de Partition\n",
        "\n",
        "### **Teorema (Correctitud)**\n",
        "\n",
        "*El algoritmo **Partition** recibe un arreglo o subarreglo definido por $array[start,end]$, elige un elemento como pivote, y particiona al arreglo, dejando en la mitad izquierda elementos menores al pivote, y en la mitad derecha elementos mayores, con el pivote colocado entre medio y retornando su posición.*\n",
        "\n",
        "# Prueba del Teorema\n",
        "\n",
        "Probaremos pues la siguiente **propiedad invariante del bucle** para **Partition**, y consideraremos un iterador $k$:\n",
        "\n",
        ">Al inicio de cada iteración $k$, el subarreglo definido por $array[start:i]$ solo tiene elementos menores al pivote, y el arreglo definido por $array[i:j]$ contiene elementos mayores al pivote, con $i,j=>k$.\n",
        "\n",
        "**Inicialización:**\n",
        "Antes de empezar a iterar, $i$ y $j$ son iguales a $start$, por lo tanto los subarreglos mencionados en la propiedad invariante se encuentran vacíos, por lo tanto es trivialmente cierto que son menores o mayores a pivote, al no haber elementos.\n",
        "\n",
        "**Mantención:**\n",
        "\n",
        "Aplicando inducción, probaremos que si se cumple la propiedad para un cierta iteración de $k$, entonces también se cumple para la siguiente iteración $k+1$.\n",
        "\n",
        "compararemos el valor de $array[k+1]$ con el valor pivote. en base al resultado, se presentan 2 casos.\n",
        "1. Si $array[k+1]>= pivote$, entonces $j$ aumenta de valor, siendo igual a $k+1$. Como se cumplía la propiedad anterior, entonces $array[i:j]$ continúa representando un subarreglo con elementos mayores a pivote.\n",
        "2. Si $array[k+1] < pivote$, este es intercambiado por el elemento $array[i]$, que, estando dentro de $array[i:j]$, es mayor a pivote.\n",
        "Luego como a $i$ le sumamos $1$, $array[start:i]$ va a contener a este valor menor a pivote. También le sumamos $1$ a $j$, siendo este igual a $k+1$ ahora. Como el elemento que pusimos en $array[k+1]$ es mayor a pivote, se sigue cumpliendo que $array[i:j]$ sea el subarreglo con elementos mayores.\n",
        "\n",
        "**Correctitud:**\n",
        "Ya que las propiedades se mantienen durante el bucle, podemos decir que la propiedad invariante del bucle es correcta. Por lo tanto **Partition** es correcto.\n",
        "\n",
        "Ojo que una vez termina el bucle, el pivote intercambia de lugar con el elemento en posición i, pero estando afuera del bucle esto no se considera para la propiedad invariante. \n",
        "\n",
        "\n"
      ],
      "metadata": {
        "id": "Yi6lZrzV1268"
      }
    },
    {
      "cell_type": "markdown",
      "source": [
        "##4.2 Correctitud de QuickSort\n",
        "\n",
        "\n",
        "### **Teorema (Correctitud)**\n",
        "\n",
        "*El algoritmo **QuickSort** recibe un arreglo de entrada $[a_1,a_2,...a_n]$, y lo ordena de menor a mayor: $[a_1',a_2',...,a_n']$ de modo que se cumpla $a_i'\\leq a_{i+1}'$ para todo $ 0 \\leq i < n$.*\n",
        "\n",
        "##Prueba del Teorema\n",
        "Usaremos inducción matemática para probar este teorema. Si llamamos a esta aseveración $P(n)$ para un arreglo de n elementos, entonces probaremos lo siguiente:\n",
        "\n",
        "1. $P(1)$, el caso base. Claramente viendo el código, sabemos que esta propiedad se cumple para un arreglo de un elemento, que de por sí se encuentra ordenado de menor a mayor.\n",
        "2. Si $P(m)$ es cierto para un $m < n$, hay que probar que P(n) es \n",
        "cierto. \n",
        "\n",
        "  Como **QuickSort** llama a **Partition**, el cual sabemos que es cierto, vamos a tener al arreglo particionado por un pivote, con todos los elementos a la izquierda menores al pivote, y con los elementos a la derecha del pivote mayores.\n",
        "\n",
        "  Expresémos a este arreglo particionado con pivote $p$ de este modo: \n",
        "  $[i_1,i_2,...i_m, p, d_1,d_2... d_m]$\n",
        "\n",
        " $i_k< p , 0< k \\leq m ;$\n",
        "\n",
        "  $d_k\\geq p ,  0< k \\leq m ;$\n",
        "\n",
        "  Luego se llama a **QuickSort** recursivamente para los subarreglos a la izquierda y derecha del pivote. Como estos subarreglos son más pequeños que el arreglo original, y $P(m)$ es cierto, entonces efectivamente ambos subarreglos quedan ordenados.\n",
        "\n",
        " $[i_1',2_2',...,i_m']$ $i_k'\\leq i_{k+1}'$ ; $[d_1',d_2',...,d_m']$ $d_k'\\leq d_{k+1}'$\n",
        "\n",
        "  Combinando lo anterior con la expresión obtenida despues de particionar, podemos asegurar que:\n",
        "\n",
        "  $i_m \\leq p \\leq d_1$\n",
        "\n",
        "  Combinandolo todo, podemos aseverar que quedaremos con un arreglo  $[a_1',a_2',...,a_n']$ tal que que se cumpla $a_i'\\leq a_{i+1}'$ para todo $ 0 \\leq i < n$.\n",
        "\n",
        "\n",
        "Por lo tanto, **QuickSort** es correcto.\n"
      ],
      "metadata": {
        "id": "jCNt-qG5lPW_"
      }
    },
    {
      "cell_type": "markdown",
      "source": [
        "#5. Tiempo de Ejecución\n",
        "\n",
        "###**Teorema(Tiempo de ejecución)** \n",
        "\n",
        "*El algoritmo **QuickSort** tiene un tiempo de ejecución de $O(nlogn)$ para la mayoría de los casos.*\n",
        "\n",
        "##Prueba del Teorema\n",
        "\n",
        "Digamos que $T(n)$ es el tiempo de ejecución de **QuickSort**. Esta función llama a **Partition**, la cual recorre al subarreglo de inicio a fín, comparando con pivote, acción que tiene un tiempo de ejecución de orden $O(n)$. Luego, el algoritmo llama recursivamente a **Quicksort** para las mitades del arreglo, que podemos decir son de tamaño $m$ y $n-m$ con $m\\leq n$, $m$ siendo también la posición donde queda pivote.\n",
        "\n",
        "Por lo tanto, podemos escribir al tiempo de **QuickSort** de la siguiente forma:\n",
        "\n",
        "$T(n) = O(n) + T(m) + T(n-m); 1 \\leq m \\leq n$\n",
        "\n",
        "Se considera que **QuickSort** está balanceado cuando los subarreglos que separa **Partition** no son menores en tamaño a un tercio del arreglo original. Consideremos pues un $m=n/3$ para analizar un caso general y reescribamos la función.\n",
        "\n",
        "$T(n) = T(n/3) + T(2n/3) + O(n)$\n",
        "\n",
        "Usaremos sustitución para probar que $T(n)$ tiene un tiempo de ejecución $O(nlogn)$. Para esto hay que probar que existe $d$ de tal modo que $T(n) =< dnlogn.$\n",
        "\n",
        "Usando inducción, asumimos que es cierto, y remplazamos a $dnlogn$ en las llamadas recursivas. \n",
        "\n",
        "$T(n) = dnlog(n/3)/3 + 2dnlog(2n/3)/3 + O(n)$\n",
        "\n",
        "Como sabemos que existe un $c$ tal que  $cn > O(n)$, podemos escribir la siguiente inecuación:\n",
        "\n",
        "$T(n) =< dnlog(n/3)/3 + 2dnlog(2n/3)/3 + cn$\n",
        "\n",
        "Usando propiedades de logaritmo, desglosamos la expresión de la siguiente forma:\n",
        "\n",
        "$T(n) =< (dnlogn-dnlog3)/3 + (dnlogn-dnlog(3/2))2/3 + cn$\n",
        "\n",
        "Uniendo expresiones, lo podemos reescribir así:\n",
        "\n",
        "$T(n) =< dnlogn - d((n/3)log3 + (2n/3)log(3/2)) + cn$\n",
        "\n",
        "$T(n) =< dnlogn - dn((1/3)log3 + (2/3)(log3 - log2)) + cn $\n",
        "\n",
        "$T(n) =< dnlogn - dn(log3 - (2/3)) + cn $\n",
        "\n",
        "Ahora debemos probar que existe d de tal modo que:\n",
        "\n",
        "$dnlogn - dn(log3 - (2/3)) + cn =< dnlogn$\n",
        "\n",
        "Eliminamos dnlogn en ambos lados y cambiamos de lado a $dn(log3-(2/3))$\n",
        "\n",
        "$cn =< dn(log3-(2/3))$\n",
        "\n",
        "Y finalmente, dividimos por $n(log3-(2/3))$\n",
        "\n",
        "$c/(log3-(2/3)) =< d$\n",
        "\n",
        "Ya que c es una constante y d un número cualquiera, podemos aseverar que si existe d tal que se cumpla la desigualdad. Por lo tanto, nlogn es una cota superior de $T(n)$"
      ],
      "metadata": {
        "id": "zVApyQaABZ_x"
      }
    },
    {
      "cell_type": "markdown",
      "source": [
        "#6. Experimentos\n",
        "##6.1 Mejor y Peor caso VS Los distintos métodos\n",
        "\n",
        "Sabemos que el mejor caso de **QuickSort** se da cuando particiona al arreglo exactamente por la mitad, generando un arbol de recursión perfectamente balanceado, lo cual resulta en $nlog_2(n)/2$ comparaciones.\n",
        "\n",
        "También podemos asegurar que el peor caso ocurre cuando **QuickSort** particiona al arreglo poniendo al pivote en el inicio o final del subarreglo, llamando recursivamente a **QuickSort** con un arreglo vacío y con un arreglo con $n-1$ elementos. La suma de todas estas comparaciones sería $n(n-1)/2$.\n",
        "\n",
        "A continuación realizaremos un experimento con **QuickSort**, dandole entradas de arreglos aleatorios y probando cuál de los métodos de **Partition** es más eficaz."
      ],
      "metadata": {
        "id": "3HZS2KDVKxzS"
      }
    },
    {
      "cell_type": "code",
      "source": [
        "import matplotlib.pyplot as plt\n",
        "import math\n",
        "import random\n",
        "\n",
        "start,stop = 5,20\n",
        "x=[n for n in range(start,stop)] \n",
        "t1=[((n-1)*(n)/2) for n in range(start,stop)]; \n",
        "t2=[(((n)*math.log2(n))/2) for n in range(start,stop)];\n",
        "y0=[];\n",
        "y1=[];\n",
        "y2=[];\n",
        "y3=[];\n",
        "\n",
        "for n in range(start,stop):\n",
        "\n",
        "  a = random.sample(range(1, 300), n) #Arreglo de entrada aleatoria\n",
        "  b = a.copy()\n",
        "  c = a.copy()\n",
        "\n",
        "  comparaciones = 0\n",
        "  QuickSort(a,0,len(a),0)\n",
        "  y0.append(comparaciones)\n",
        "\n",
        "  comparaciones = 0\n",
        "  QuickSort(b,0,len(b),1)\n",
        "  y1.append(comparaciones)\n",
        "\n",
        "  comparaciones = 0\n",
        "  QuickSort(c,0,len(c),2)\n",
        "  y2.append(comparaciones)\n",
        "\n",
        "\n",
        "\n",
        "plt.plot(x,t1)\n",
        "plt.plot(x,t2)  \n",
        "plt.plot(x,y0)\n",
        "plt.plot(x,y1)\n",
        "plt.plot(x,y2)\n",
        "\n",
        "plt.legend(['Peor caso teórico','Mejor caso teórico', 'método 0', 'método 1', 'método 2'])\n",
        "\n",
        "plt.xlabel('n')\n",
        "plt.ylabel('Numero de comparaciones')\n",
        "plt.show()"
      ],
      "metadata": {
        "colab": {
          "base_uri": "https://localhost:8080/",
          "height": 279
        },
        "id": "trYEcGvvLKbb",
        "outputId": "b5980dd3-e379-4dc2-e210-7a76447f73cb"
      },
      "execution_count": 34,
      "outputs": [
        {
          "output_type": "display_data",
          "data": {
            "text/plain": [
              "<Figure size 432x288 with 1 Axes>"
            ],
            "image/png": "[encoded data removed]"
          },
          "metadata": {
            "needs_background": "light"
          }
        }
      ]
    },
    {
      "cell_type": "markdown",
      "source": [
        "##Análisis de Resultados \n",
        "Como se puede ver en el gráfico, los tres métodos se mantuvieron bastánte cercanos al comportamiento del mejor caso, ya que el peor caso sólo ocurre cuando se tiene un arreglo ordenado y no se elige pivote aleatorio.\n",
        "\n",
        "Por ende, para casos generales, se confirma QuickSort tiene un tiempo de ejecución $O(nlogn)$"
      ],
      "metadata": {
        "id": "_UEyfWoPYDt6"
      }
    },
    {
      "cell_type": "markdown",
      "source": [
        "##6.2 QuickSort VS MergeSort\n",
        "\n",
        "Sabemos que tanto **MergeSort** como **QuickSort** tienen un tiempo de ejecución $o(nlogn)$, con **MergeSort** siendo más estricto en este caso. Pero la implementación de estos algoritmos es bastante distinta, con **QuickSort** siendo mucho más simple. A continuación se realizarán experimentos para comparar el tiempo real de estos algoritmos, usando los distintos medios de selección de pivote.\n",
        "\n"
      ],
      "metadata": {
        "id": "0j0uKZ5FYn4L"
      }
    },
    {
      "cell_type": "code",
      "source": [
        "import matplotlib.pyplot as plt\n",
        "import datetime\n",
        "from timeit import repeat\n",
        "\n",
        "def merge(array, start, mid, end):\n",
        "    aux = []\n",
        "    a = start \n",
        "    b = mid \n",
        "    while (True):\n",
        "\n",
        "        if (array[a] <= array[b]): \n",
        "            aux.append(array[a])\n",
        "            a+=1\n",
        "        if (array[b] < array[a]):\n",
        "            aux.append(array[b])\n",
        "            b+=1\n",
        "\n",
        "        if (a == mid): \n",
        "            while(b != end): \n",
        "                aux.append(array[b])\n",
        "                b+=1\n",
        "            break \n",
        "        \n",
        "        if (b == end):\n",
        "            while (a != mid):\n",
        "                aux.append(array[a])\n",
        "                a+=1\n",
        "            break\n",
        "    \n",
        "    for i in range(len(aux)): \n",
        "        array[start+i] = aux[i]\n",
        "\n",
        "def MergeSort(array, start, end):\n",
        "    if start>=end : \n",
        "      return 0\n",
        "    mid = start + int((end-start)/2)\n",
        "    if mid==start:\n",
        "      return 0\n",
        "    MergeSort(array,start,mid,)\n",
        "    MergeSort(array,mid,end)\n",
        "    merge(array,start,mid,end)\n",
        "    return \n",
        "  \n",
        "x=[] \n",
        "y0=[]\n",
        "y1=[]\n",
        "y2=[]\n",
        "y3=[]\n",
        "\n",
        "for n in range(10,100):\n",
        "\n",
        "  a = random.sample(range(1, 1000), n) \n",
        "  b = a.copy()\n",
        "  c = a.copy()\n",
        "  d = a.copy() \n",
        "  t0 = repeat(setup=\"from __main__ import QuickSort\", stmt=f\"QuickSort({a},{0},{len(a)},{0})\", repeat=1, number=10)\n",
        "  t1 = repeat(setup=\"from __main__ import QuickSort\", stmt=f\"QuickSort({b},{0},{len(b)},{1})\", repeat=1, number=10)\n",
        "  t2 = repeat(setup=\"from __main__ import QuickSort\", stmt=f\"QuickSort({c},{0},{len(c)},{2})\", repeat=1, number=10)\n",
        "  t3 = repeat(setup=\"from __main__ import MergeSort\", stmt=f\"MergeSort({d},{0},{len(d)})\", repeat=1, number=10)\n",
        "  x.append(n)\n",
        "  y0.append(t0)\n",
        "  y1.append(t1)\n",
        "  y2.append(t2)\n",
        "  y3.append(t3)\n",
        "\n",
        "plt.plot(x,y0)\n",
        "plt.plot(x,y1)\n",
        "plt.plot(x,y2)\n",
        "plt.plot(x,y3)\n",
        "plt.legend([\"Quicksort pivote inicial\",\"QuickSort pivote mediana aleatoria\", \"Quicksort pivote inicial\",\"MergeSort\"])\n",
        "\n",
        "\n",
        "plt.xlabel('n')\n",
        "plt.ylabel('time in ms')\n",
        "plt.show()"
      ],
      "metadata": {
        "colab": {
          "base_uri": "https://localhost:8080/",
          "height": 279
        },
        "id": "OLHMHguaefke",
        "outputId": "665e3b21-912d-44b7-916c-a4121101fef3"
      },
      "execution_count": 40,
      "outputs": [
        {
          "output_type": "display_data",
          "data": {
            "text/plain": [
              "<Figure size 432x288 with 1 Axes>"
            ],
            "image/png": "[encoded data removed]"
          },
          "metadata": {
            "needs_background": "light"
          }
        }
      ]
    },
    {
      "cell_type": "markdown",
      "source": [
        "##Análisis de Resultados\n",
        "Como se puede apreciar en el gráfico, los **QuickSorts** realizados con pivote escogido al inicio y final son más rapidos que **MergeSort**, mientras que el **QuickSort** con pivote mediana de muestra aleatoria es más lento. En este caso, los costos asociados a muestrear el arreglo y realizar comparaciones extra son mayores a lo que se gana con tener un pivote más cercano a la mediana real."
      ],
      "metadata": {
        "id": "ltoATXaLia5M"
      }
    },
    {
      "cell_type": "markdown",
      "source": [
        "##6.3. Entrada casi ordenada\n",
        "\n",
        "Sabemos que el peor caso es cuando el arreglo está ordenado. ¿Cómo se comportan los distintos métodos de **Partition** en **QuickSort** cuando el arreglo está casi ordenado?\n",
        "\n",
        "Para obtener al arreglo casi ordenado, primero usamos QuickSort para generar un arreglo ordenado. Luego, elegimos tres elementos al azar y los intercambiamos de posición. Finalmente se copia el arreglo para usarlo con los distintos métodos."
      ],
      "metadata": {
        "id": "tgRyCuC_k_Od"
      }
    },
    {
      "cell_type": "code",
      "source": [
        "import matplotlib.pyplot as plt\n",
        "import datetime\n",
        "from timeit import repeat\n",
        "\n",
        "x=[] \n",
        "y0=[]\n",
        "y1=[]\n",
        "y2=[]\n",
        "\n",
        "\n",
        "for n in range(10,100):\n",
        "\n",
        "  a = random.sample(range(1, 1000), n) \n",
        "  QuickSort(a,0,len(a),2)\n",
        "  m1,m2,m3 = random.sample(range(1,n),3)\n",
        "\n",
        "  a[m1],a[m2],a[m3]=a[m2],a[m3],a[m1]\n",
        "\n",
        "  b = a.copy()\n",
        "  c = a.copy()\n",
        "  t0 = repeat(setup=\"from __main__ import QuickSort\", stmt=f\"QuickSort({a},{0},{len(a)},{0})\", repeat=1, number=10)\n",
        "  t1 = repeat(setup=\"from __main__ import QuickSort\", stmt=f\"QuickSort({b},{0},{len(b)},{1})\", repeat=1, number=10)\n",
        "  t2 = repeat(setup=\"from __main__ import QuickSort\", stmt=f\"QuickSort({c},{0},{len(c)},{2})\", repeat=1, number=10)\n",
        "  x.append(n)\n",
        "  y0.append(t0)\n",
        "  y1.append(t1)\n",
        "  y2.append(t2)\n",
        "\n",
        "\n",
        "plt.plot(x,y0)\n",
        "plt.plot(x,y1)\n",
        "plt.plot(x,y2)\n",
        "plt.legend([\"Quicksort pivote inicial\",\"QuickSort pivote mediana aleatoria\", \"Quicksort pivote inicial\"])\n",
        "\n",
        "\n",
        "plt.xlabel('n')\n",
        "plt.ylabel('time in ms')\n",
        "plt.show()"
      ],
      "metadata": {
        "colab": {
          "base_uri": "https://localhost:8080/",
          "height": 279
        },
        "id": "KCeo62gLlpWL",
        "outputId": "9e2dd5a8-17c8-4a66-eada-a595a5e47a1e"
      },
      "execution_count": 43,
      "outputs": [
        {
          "output_type": "display_data",
          "data": {
            "text/plain": [
              "<Figure size 432x288 with 1 Axes>"
            ],
            "image/png": "[encoded data removed]"
          },
          "metadata": {
            "needs_background": "light"
          }
        }
      ]
    },
    {
      "cell_type": "markdown",
      "source": [
        "##Análisis de Resultados\n",
        "\n",
        "Con el arreglo casi ordenado, podemos ver que los casos con pivote inicial y final ya no son tán efectivos como antes. En unos pocos casos son mejores al **QuickSort** con mediana aleatoria, pero el resto de las veces se demoran más, acercándose al tiempo de peor caso, $O(n^2)$"
      ],
      "metadata": {
        "id": "Z-XpspCOnMp2"
      }
    }
  ]
}